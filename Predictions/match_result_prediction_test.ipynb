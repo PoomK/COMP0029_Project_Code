{
 "cells": [
  {
   "cell_type": "markdown",
   "metadata": {},
   "source": [
    "# Predicting Match Result for the Upcoming Gameweek\n",
    "\n",
    "Now the aim of the machine learning models is to predict the result of the upcoming matches. However, the matches haven't been played yet and as a result there are no statistics. As a result, form will be a key indicator in helping to predict the performance as well as average statistics throughout the season."
   ]
  },
  {
   "cell_type": "code",
   "execution_count": 1,
   "metadata": {},
   "outputs": [],
   "source": [
    "import pandas as pd\n",
    "import numpy as np\n",
    "import pickle\n",
    "import os\n",
    "import matplotlib.pyplot as plt\n",
    "from logistic_regression_predict import predict_logreg"
   ]
  },
  {
   "cell_type": "markdown",
   "metadata": {},
   "source": [
    "## Computing form and season averages"
   ]
  },
  {
   "cell_type": "code",
   "execution_count": 2,
   "metadata": {},
   "outputs": [],
   "source": [
    "df = pd.read_csv(\"../Data/API-Football_FORM/API-Football-Data-2024:25_FORM.csv\")\n",
    "df[\"Date\"] = pd.to_datetime(df[\"Date\"])"
   ]
  },
  {
   "cell_type": "code",
   "execution_count": 3,
   "metadata": {},
   "outputs": [],
   "source": [
    "# Change possession to decimal\n",
    "for col in df.columns:\n",
    "    if \"Possession\" in col and df[col].dtype == object:\n",
    "        df[col] = df[col].str.rstrip('%').astype(float) / 100"
   ]
  },
  {
   "cell_type": "code",
   "execution_count": 4,
   "metadata": {},
   "outputs": [],
   "source": [
    "def get_latest_form(df):\n",
    "    form_cols = [\n",
    "        \"Points\", \"Goals_Scored\", \"Goals_Conceded\",\n",
    "        \"Wins\", \"Draws\", \"Losses\", \"Form_Score\"\n",
    "    ]\n",
    "    home_cols = [f\"Home_{col}\" for col in form_cols]\n",
    "    away_cols = [f\"Away_{col}\" for col in form_cols]\n",
    "\n",
    "    latest_form = {}\n",
    "\n",
    "    for idx in reversed(df.index):\n",
    "        row = df.loc[idx]\n",
    "        for team, prefix in [(row[\"Home Team\"], \"Home_\"), (row[\"Away Team\"], \"Away_\")]:\n",
    "            if team not in latest_form:\n",
    "                latest_form[team] = {col.replace(prefix, \"\"): row[f\"{prefix}{col}\"] for col in form_cols}\n",
    "                latest_form[team][\"Team\"] = team\n",
    "\n",
    "        if len(latest_form) == len(pd.unique(df[[\"Home Team\", \"Away Team\"]].values.ravel())):\n",
    "            break\n",
    "\n",
    "    return pd.DataFrame(latest_form.values()).set_index(\"Team\")"
   ]
  },
  {
   "cell_type": "code",
   "execution_count": 5,
   "metadata": {},
   "outputs": [
    {
     "name": "stdout",
     "output_type": "stream",
     "text": [
      "                   Points  Goals_Scored  Goals_Conceded  Wins  Draws  Losses  \\\n",
      "Team                                                                           \n",
      "Leicester             0.0           0.0            13.0   0.0    0.0     5.0   \n",
      "Manchester United     5.0           6.0             8.0   1.0    2.0     2.0   \n",
      "Fulham                9.0           7.0             7.0   3.0    0.0     2.0   \n",
      "Tottenham            10.0           9.0             4.0   3.0    1.0     1.0   \n",
      "Arsenal               8.0           8.0             3.0   2.0    2.0     1.0   \n",
      "Chelsea               9.0           8.0             6.0   3.0    0.0     2.0   \n",
      "Bournemouth           4.0           6.0             8.0   1.0    1.0     3.0   \n",
      "Brentford             7.0           6.0             4.0   2.0    1.0     2.0   \n",
      "Ipswich               1.0           5.0            11.0   0.0    1.0     4.0   \n",
      "Nottingham Forest     7.0          12.0             6.0   2.0    1.0     2.0   \n",
      "Manchester City       6.0           6.0             8.0   2.0    0.0     3.0   \n",
      "Brighton             12.0          11.0             9.0   4.0    0.0     1.0   \n",
      "Everton               7.0           8.0             7.0   1.0    4.0     0.0   \n",
      "West Ham              6.0           4.0             4.0   2.0    0.0     3.0   \n",
      "Southampton           3.0           4.0            15.0   1.0    0.0     4.0   \n",
      "Wolves                7.0           6.0             5.0   2.0    1.0     2.0   \n",
      "Newcastle             6.0           8.0            12.0   2.0    0.0     3.0   \n",
      "Aston Villa           5.0           6.0            10.0   1.0    2.0     2.0   \n",
      "Crystal Palace        9.0          10.0             5.0   3.0    0.0     2.0   \n",
      "Liverpool            11.0          10.0             5.0   3.0    2.0     0.0   \n",
      "\n",
      "                   Form_Score  \n",
      "Team                           \n",
      "Leicester                -6.5  \n",
      "Manchester United         4.0  \n",
      "Fulham                    9.0  \n",
      "Tottenham                12.5  \n",
      "Arsenal                  10.5  \n",
      "Chelsea                  10.0  \n",
      "Bournemouth               3.0  \n",
      "Brentford                 8.0  \n",
      "Ipswich                  -2.0  \n",
      "Nottingham Forest        10.0  \n",
      "Manchester City           5.0  \n",
      "Brighton                 13.0  \n",
      "Everton                   7.5  \n",
      "West Ham                  6.0  \n",
      "Southampton              -2.5  \n",
      "Wolves                    7.5  \n",
      "Newcastle                 4.0  \n",
      "Aston Villa               3.0  \n",
      "Crystal Palace           11.5  \n",
      "Liverpool                13.5  \n"
     ]
    }
   ],
   "source": [
    "form_df = get_latest_form(df)\n",
    "print(form_df)"
   ]
  },
  {
   "cell_type": "code",
   "execution_count": 6,
   "metadata": {},
   "outputs": [],
   "source": [
    "def compute_season_averages(df):\n",
    "    stat_fields = [\n",
    "        \"Shots on Goal\", \"Corner Kicks\", \"Ball Possession\",\n",
    "        \"Yellow Cards\", \"Red Cards\", \"Offsides\", \"expected_goals\"\n",
    "    ]\n",
    "    teams = pd.unique(df[[\"Home Team\", \"Away Team\"]].values.ravel())\n",
    "    avg_stats = []\n",
    "\n",
    "    for team in teams:\n",
    "        home_matches = df[df[\"Home Team\"] == team]\n",
    "        away_matches = df[df[\"Away Team\"] == team]\n",
    "\n",
    "        combined = pd.DataFrame()\n",
    "        for field in stat_fields:\n",
    "            home_col = f\"Home {field}\"\n",
    "            away_col = f\"Away {field}\"\n",
    "            if home_col in df.columns and away_col in df.columns:\n",
    "                combined[field] = pd.concat([\n",
    "                    home_matches[home_col],\n",
    "                    away_matches[away_col]\n",
    "                ], ignore_index=True)\n",
    "\n",
    "        averages = combined.mean()\n",
    "        averages[\"Team\"] = team\n",
    "        avg_stats.append(averages)\n",
    "\n",
    "    return pd.DataFrame(avg_stats).set_index(\"Team\")"
   ]
  },
  {
   "cell_type": "code",
   "execution_count": 7,
   "metadata": {},
   "outputs": [],
   "source": [
    "avg_df = compute_season_averages(df)"
   ]
  },
  {
   "cell_type": "code",
   "execution_count": 8,
   "metadata": {},
   "outputs": [],
   "source": [
    "team_features = form_df.merge(avg_df, left_index=True, right_index=True)\n",
    "os.makedirs(\"Prediction_Features\", exist_ok=True)\n",
    "current_gw = \"30\"\n",
    "team_features.to_csv(f\"Prediction_Features/Team_Form_And_Averages_2024_25_gw_{current_gw}.csv\")"
   ]
  },
  {
   "cell_type": "markdown",
   "metadata": {},
   "source": [
    "## Predicting result"
   ]
  },
  {
   "cell_type": "code",
   "execution_count": 9,
   "metadata": {},
   "outputs": [],
   "source": [
    "with open(\"../Pre-Processing/Encoders_final/onehot_encoder.pkl\", \"rb\") as f:\n",
    "    ohe = pickle.load(f)\n",
    "\n",
    "with open(\"../Models/saved_models_result/logistic_regression_model_l2.pkl\", \"rb\") as f:\n",
    "    logreg_model = pickle.load(f)"
   ]
  },
  {
   "cell_type": "code",
   "execution_count": 11,
   "metadata": {},
   "outputs": [],
   "source": [
    "# Column names when training the model\n",
    "included_cols = [\n",
    "    \"Home Team\", \"Away Team\",\n",
    "    \"Home_Points\", \"Home_Goals_Scored\", \"Home_Goals_Conceded\",\n",
    "    \"Home_Wins\", \"Home_Draws\", \"Home_Losses\", \"Home_Form_Score\",\n",
    "    \"Away_Points\", \"Away_Goals_Scored\", \"Away_Goals_Conceded\",\n",
    "    \"Away_Wins\", \"Away_Draws\", \"Away_Losses\", \"Away_Form_Score\",\n",
    "    \"Home Shots on Goal\", \"Away Shots on Goal\",\n",
    "    \"Home Corner Kicks\", \"Away Corner Kicks\",\n",
    "    \"Home Ball Possession\", \"Away Ball Possession\",\n",
    "    \"Home Yellow Cards\", \"Away Yellow Cards\",\n",
    "    \"Home Red Cards\", \"Away Red Cards\",\n",
    "    \"Home Offsides\", \"Away Offsides\",\n",
    "    \"Home expected_goals\", \"Away expected_goals\",\n",
    "]\n",
    "\n",
    "home_mapping = {\n",
    "    \"Points\": \"Home_Points\",\n",
    "    \"Goals_Scored\": \"Home_Goals_Scored\",\n",
    "    \"Goals_Conceded\": \"Home_Goals_Conceded\",\n",
    "    \"Wins\": \"Home_Wins\",\n",
    "    \"Draws\": \"Home_Draws\",\n",
    "    \"Losses\": \"Home_Losses\",\n",
    "    \"Form_Score\": \"Home_Form_Score\",\n",
    "    \"Shots on Goal\": \"Home Shots on Goal\",\n",
    "    \"Corner Kicks\": \"Home Corner Kicks\",\n",
    "    \"Ball Possession\": \"Home Ball Possession\",\n",
    "    \"Yellow Cards\": \"Home Yellow Cards\",\n",
    "    \"Red Cards\": \"Home Red Cards\",\n",
    "    \"Offsides\": \"Home Offsides\",\n",
    "    \"expected_goals\": \"Home expected_goals\",\n",
    "}\n",
    "\n",
    "away_mapping = {\n",
    "    \"Points\": \"Away_Points\",\n",
    "    \"Goals_Scored\": \"Away_Goals_Scored\",\n",
    "    \"Goals_Conceded\": \"Away_Goals_Conceded\",\n",
    "    \"Wins\": \"Away_Wins\",\n",
    "    \"Draws\": \"Away_Draws\",\n",
    "    \"Losses\": \"Away_Losses\",\n",
    "    \"Form_Score\": \"Away_Form_Score\",\n",
    "    \"Shots on Goal\": \"Away Shots on Goal\",\n",
    "    \"Corner Kicks\": \"Away Corner Kicks\",\n",
    "    \"Ball Possession\": \"Away Ball Possession\",\n",
    "    \"Yellow Cards\": \"Away Yellow Cards\",\n",
    "    \"Red Cards\": \"Away Red Cards\",\n",
    "    \"Offsides\": \"Away Offsides\",\n",
    "    \"expected_goals\": \"Away expected_goals\",\n",
    "}"
   ]
  },
  {
   "cell_type": "code",
   "execution_count": 12,
   "metadata": {},
   "outputs": [
    {
     "name": "stdout",
     "output_type": "stream",
     "text": [
      "                   Points  Goals_Scored  Goals_Conceded  Wins  Draws  Losses  \\\n",
      "Team                                                                           \n",
      "Leicester             0.0           0.0            13.0   0.0    0.0     5.0   \n",
      "Manchester United     5.0           6.0             8.0   1.0    2.0     2.0   \n",
      "Fulham                9.0           7.0             7.0   3.0    0.0     2.0   \n",
      "Tottenham            10.0           9.0             4.0   3.0    1.0     1.0   \n",
      "Arsenal               8.0           8.0             3.0   2.0    2.0     1.0   \n",
      "Chelsea               9.0           8.0             6.0   3.0    0.0     2.0   \n",
      "Bournemouth           4.0           6.0             8.0   1.0    1.0     3.0   \n",
      "Brentford             7.0           6.0             4.0   2.0    1.0     2.0   \n",
      "Ipswich               1.0           5.0            11.0   0.0    1.0     4.0   \n",
      "Nottingham Forest     7.0          12.0             6.0   2.0    1.0     2.0   \n",
      "Manchester City       6.0           6.0             8.0   2.0    0.0     3.0   \n",
      "Brighton             12.0          11.0             9.0   4.0    0.0     1.0   \n",
      "Everton               7.0           8.0             7.0   1.0    4.0     0.0   \n",
      "West Ham              6.0           4.0             4.0   2.0    0.0     3.0   \n",
      "Southampton           3.0           4.0            15.0   1.0    0.0     4.0   \n",
      "Wolves                7.0           6.0             5.0   2.0    1.0     2.0   \n",
      "Newcastle             6.0           8.0            12.0   2.0    0.0     3.0   \n",
      "Aston Villa           5.0           6.0            10.0   1.0    2.0     2.0   \n",
      "Crystal Palace        9.0          10.0             5.0   3.0    0.0     2.0   \n",
      "Liverpool            11.0          10.0             5.0   3.0    2.0     0.0   \n",
      "\n",
      "                   Form_Score  Shots on Goal  Corner Kicks  Ball Possession  \\\n",
      "Team                                                                          \n",
      "Leicester                -6.5       3.034483      3.620690         0.458276   \n",
      "Manchester United         4.0       4.551724      4.965517         0.526552   \n",
      "Fulham                    9.0       4.551724      5.379310         0.527586   \n",
      "Tottenham                12.5       5.379310      7.241379         0.570690   \n",
      "Arsenal                  10.5       4.827586      6.517241         0.557931   \n",
      "Chelsea                  10.0       5.827586      5.965517         0.583103   \n",
      "Bournemouth               3.0       5.793103      6.137931         0.470345   \n",
      "Brentford                 8.0       4.896552      4.517241         0.481034   \n",
      "Ipswich                  -2.0       3.586207      4.068966         0.412414   \n",
      "Nottingham Forest        10.0       4.586207      4.275862         0.396207   \n",
      "Manchester City           5.0       5.793103      6.931034         0.607931   \n",
      "Brighton                 13.0       4.793103      4.931034         0.519655   \n",
      "Everton                   7.5       3.793103      4.172414         0.404138   \n",
      "West Ham                  6.0       3.896552      4.344828         0.470690   \n",
      "Southampton              -2.5       3.103448      4.275862         0.506207   \n",
      "Wolves                    7.5       4.310345      3.551724         0.478276   \n",
      "Newcastle                 4.0       4.392857      5.571429         0.500714   \n",
      "Aston Villa               3.0       4.172414      6.448276         0.515172   \n",
      "Crystal Palace           11.5       5.035714      4.750000         0.437857   \n",
      "Liverpool                13.5       6.310345      6.275862         0.573103   \n",
      "\n",
      "                   Yellow Cards  Red Cards  Offsides  expected_goals  \n",
      "Team                                                                  \n",
      "Leicester              2.206897   0.000000  1.655172        0.879655  \n",
      "Manchester United      2.206897   0.103448  1.896552        1.351034  \n",
      "Fulham                 2.103448   0.068966  1.137931        1.382759  \n",
      "Tottenham              1.862069   0.034483  1.517241        1.659310  \n",
      "Arsenal                2.068966   0.172414  2.206897        1.576897  \n",
      "Chelsea                2.793103   0.034483  1.620690        1.965517  \n",
      "Bournemouth            2.551724   0.034483  1.965517        1.847586  \n",
      "Brentford              1.379310   0.034483  1.965517        1.557586  \n",
      "Ipswich                2.586207   0.103448  1.448276        0.937586  \n",
      "Nottingham Forest      2.206897   0.068966  2.310345        1.287931  \n",
      "Manchester City        1.724138   0.034483  1.206897        1.795517  \n",
      "Brighton               2.137931   0.034483  1.137931        1.518621  \n",
      "Everton                2.103448   0.068966  2.275862        1.114828  \n",
      "West Ham               2.172414   0.103448  1.896552        1.294483  \n",
      "Southampton            2.586207   0.103448  1.344828        0.951034  \n",
      "Wolves                 2.172414   0.068966  1.827586        1.106207  \n",
      "Newcastle              1.857143   0.035714  2.035714        1.664643  \n",
      "Aston Villa            2.000000   0.068966  1.655172        1.457241  \n",
      "Crystal Palace         2.071429   0.035714  1.892857        1.601786  \n",
      "Liverpool              1.931034   0.068966  1.448276        2.276897  \n"
     ]
    }
   ],
   "source": [
    "current_gw = \"30\"\n",
    "team_df = pd.read_csv(f\"Prediction_Features/Team_Form_And_Averages_2024_25_gw_{current_gw}.csv\", index_col=\"Team\")\n",
    "print(team_df)"
   ]
  },
  {
   "cell_type": "code",
   "execution_count": 13,
   "metadata": {},
   "outputs": [],
   "source": [
    "home_team = \"Nottingham Forest\"\n",
    "away_team = \"Manchester United\"\n",
    "\n",
    "row = {\n",
    "    \"Home Team\": home_team,\n",
    "    \"Away Team\": away_team,\n",
    "}"
   ]
  },
  {
   "cell_type": "code",
   "execution_count": 14,
   "metadata": {},
   "outputs": [
    {
     "name": "stdout",
     "output_type": "stream",
     "text": [
      "{'Home Team': 'Nottingham Forest', 'Away Team': 'Manchester United', 'Home_Points': 7.0, 'Home_Goals_Scored': 12.0, 'Home_Goals_Conceded': 6.0, 'Home_Wins': 2.0, 'Home_Draws': 1.0, 'Home_Losses': 2.0, 'Home_Form_Score': 10.0, 'Home Shots on Goal': 4.586206896551724, 'Home Corner Kicks': 4.275862068965517, 'Home Ball Possession': 0.3962068965517241, 'Home Yellow Cards': 2.206896551724138, 'Home Red Cards': 0.0689655172413793, 'Home Offsides': 2.310344827586207, 'Home expected_goals': 1.2879310344827586, 'Away_Points': 5.0, 'Away_Goals_Scored': 6.0, 'Away_Goals_Conceded': 8.0, 'Away_Wins': 1.0, 'Away_Draws': 2.0, 'Away_Losses': 2.0, 'Away_Form_Score': 4.0, 'Away Shots on Goal': 4.551724137931035, 'Away Corner Kicks': 4.9655172413793105, 'Away Ball Possession': 0.526551724137931, 'Away Yellow Cards': 2.206896551724138, 'Away Red Cards': 0.1034482758620689, 'Away Offsides': 1.896551724137931, 'Away expected_goals': 1.3510344827586207}\n"
     ]
    }
   ],
   "source": [
    "# Get the row where index = home_team\n",
    "home_row = team_df.loc[home_team]\n",
    "away_row = team_df.loc[away_team]\n",
    "\n",
    "for src_col, dst_col in home_mapping.items():\n",
    "    row[dst_col] = home_row[src_col]\n",
    "\n",
    "for src_col, dst_col in away_mapping.items():\n",
    "    row[dst_col] = away_row[src_col]\n",
    "\n",
    "print(row)"
   ]
  },
  {
   "cell_type": "code",
   "execution_count": 15,
   "metadata": {},
   "outputs": [],
   "source": [
    "df_input = pd.DataFrame([row])"
   ]
  },
  {
   "cell_type": "code",
   "execution_count": 16,
   "metadata": {},
   "outputs": [],
   "source": [
    "categorical_cols = [\"Home Team\", \"Away Team\"]\n",
    "df_cat = df_input[categorical_cols]\n",
    "arr_encoded = ohe.transform(df_cat)\n",
    "\n",
    "encoded_cols = ohe.get_feature_names_out(categorical_cols)\n",
    "\n",
    "df_cat_encoded = pd.DataFrame(arr_encoded, \n",
    "                              columns=encoded_cols,\n",
    "                              index=df_input.index)\n",
    "\n",
    "df_num = df_input.drop(columns=categorical_cols)\n",
    "df_encoded = pd.concat([df_num, df_cat_encoded], axis=1)\n",
    "\n",
    "model_cols = logreg_model.feature_names_in_\n",
    "df_encoded = df_encoded.reindex(columns=model_cols, fill_value=0)"
   ]
  },
  {
   "cell_type": "code",
   "execution_count": 17,
   "metadata": {},
   "outputs": [],
   "source": [
    "y_pred = logreg_model.predict(df_encoded)\n",
    "y_probs = logreg_model.predict_proba(df_encoded)"
   ]
  },
  {
   "cell_type": "markdown",
   "metadata": {},
   "source": [
    "## Testing predicting functions"
   ]
  },
  {
   "cell_type": "code",
   "execution_count": 18,
   "metadata": {},
   "outputs": [
    {
     "name": "stdout",
     "output_type": "stream",
     "text": [
      "Match: Nottingham Forest vs Manchester United\n",
      "Prediction: Draw\n"
     ]
    }
   ],
   "source": [
    "#===== PREDICTING MATCH RESULT FOR PL GW 30 =====#\n",
    "result_message, home_prob, draw_prob, away_prob = predict_logreg(\"Nottingham Forest\", \"Manchester United\", 30)\n",
    "\n",
    "print(result_message)"
   ]
  },
  {
   "cell_type": "code",
   "execution_count": 22,
   "metadata": {},
   "outputs": [],
   "source": [
    "def predict_whole_gameweek(gw: int, matches: list):\n",
    "    all_predictions = []\n",
    "\n",
    "    for (home_team, away_team) in matches:\n",
    "        nice_prediction, home_prob, draw_prob, away_prob = predict_logreg(home_team, away_team, gw)\n",
    "        \n",
    "        print(f\"Match: {home_team} vs {away_team}\")\n",
    "        print(f\"Prediction: {nice_prediction}\")\n",
    "        print(f\"Probabilities -> Home: {home_prob:.3f}, Draw: {draw_prob:.3f}, Away: {away_prob:.3f}\")\n",
    "        print(\"#==========#\")\n",
    "\n",
    "        all_predictions.append(\n",
    "            (home_team, away_team, nice_prediction, home_prob, draw_prob, away_prob)\n",
    "        )\n",
    "    \n",
    "    return all_predictions"
   ]
  },
  {
   "cell_type": "code",
   "execution_count": 24,
   "metadata": {},
   "outputs": [
    {
     "name": "stdout",
     "output_type": "stream",
     "text": [
      "Match: Arsenal vs Fulham\n",
      "Prediction: Match: Arsenal vs Fulham\n",
      "Prediction: Arsenal Win\n",
      "Probabilities -> Home: 0.622, Draw: 0.288, Away: 0.089\n",
      "#==========#\n",
      "Match: Wolves vs West Ham\n",
      "Prediction: Match: Wolves vs West Ham\n",
      "Prediction: Wolves Win\n",
      "Probabilities -> Home: 0.425, Draw: 0.273, Away: 0.302\n",
      "#==========#\n",
      "Match: Nottingham Forest vs Manchester United\n",
      "Prediction: Match: Nottingham Forest vs Manchester United\n",
      "Prediction: Draw\n",
      "Probabilities -> Home: 0.286, Draw: 0.415, Away: 0.299\n",
      "#==========#\n",
      "Match: Bournemouth vs Ipswich\n",
      "Prediction: Match: Bournemouth vs Ipswich\n",
      "Prediction: Bournemouth Win\n",
      "Probabilities -> Home: 0.591, Draw: 0.320, Away: 0.089\n",
      "#==========#\n",
      "Match: Brighton vs Aston Villa\n",
      "Prediction: Match: Brighton vs Aston Villa\n",
      "Prediction: Brighton Win\n",
      "Probabilities -> Home: 0.528, Draw: 0.333, Away: 0.139\n",
      "#==========#\n",
      "Match: Manchester City vs Leicester\n",
      "Prediction: Match: Manchester City vs Leicester\n",
      "Prediction: Manchester City Win\n",
      "Probabilities -> Home: 0.899, Draw: 0.090, Away: 0.010\n",
      "#==========#\n",
      "Match: Newcastle vs Brentford\n",
      "Prediction: Match: Newcastle vs Brentford\n",
      "Prediction: Brentford Win\n",
      "Probabilities -> Home: 0.223, Draw: 0.316, Away: 0.461\n",
      "#==========#\n",
      "Match: Southampton vs Crystal Palace\n",
      "Prediction: Match: Southampton vs Crystal Palace\n",
      "Prediction: Crystal Palace Win\n",
      "Probabilities -> Home: 0.032, Draw: 0.221, Away: 0.748\n",
      "#==========#\n",
      "Match: Liverpool vs Everton\n",
      "Prediction: Match: Liverpool vs Everton\n",
      "Prediction: Liverpool Win\n",
      "Probabilities -> Home: 0.850, Draw: 0.140, Away: 0.010\n",
      "#==========#\n",
      "Match: Chelsea vs Tottenham\n",
      "Prediction: Match: Chelsea vs Tottenham\n",
      "Prediction: Draw\n",
      "Probabilities -> Home: 0.358, Draw: 0.431, Away: 0.211\n",
      "#==========#\n"
     ]
    }
   ],
   "source": [
    "matches_gw30 = [\n",
    "    (\"Arsenal\", \"Fulham\"),\n",
    "    (\"Wolves\", \"West Ham\"),\n",
    "    (\"Nottingham Forest\", \"Manchester United\"),\n",
    "    (\"Bournemouth\", \"Ipswich\"),\n",
    "    (\"Brighton\", \"Aston Villa\"),\n",
    "    (\"Manchester City\", \"Leicester\"),\n",
    "    (\"Newcastle\", \"Brentford\"),\n",
    "    (\"Southampton\", \"Crystal Palace\"),\n",
    "    (\"Liverpool\", \"Everton\"),\n",
    "    (\"Chelsea\", \"Tottenham\"),\n",
    "]\n",
    "\n",
    "predictions_gw30 = predict_whole_gameweek(30, matches_gw30)"
   ]
  }
 ],
 "metadata": {
  "kernelspec": {
   "display_name": "FYP_ML",
   "language": "python",
   "name": "python3"
  },
  "language_info": {
   "codemirror_mode": {
    "name": "ipython",
    "version": 3
   },
   "file_extension": ".py",
   "mimetype": "text/x-python",
   "name": "python",
   "nbconvert_exporter": "python",
   "pygments_lexer": "ipython3",
   "version": "3.9.21"
  }
 },
 "nbformat": 4,
 "nbformat_minor": 2
}
