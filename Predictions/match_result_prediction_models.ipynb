{
 "cells": [
  {
   "cell_type": "markdown",
   "metadata": {},
   "source": [
    "# Predicting match results for GW 30"
   ]
  },
  {
   "cell_type": "code",
   "execution_count": 6,
   "metadata": {},
   "outputs": [],
   "source": [
    "import os\n",
    "import csv\n",
    "import pandas as pd"
   ]
  },
  {
   "cell_type": "code",
   "execution_count": 7,
   "metadata": {},
   "outputs": [],
   "source": [
    "matches_gw30 = [\n",
    "    (\"Arsenal\", \"Fulham\"),\n",
    "    (\"Wolves\", \"West Ham\"),\n",
    "    (\"Nottingham Forest\", \"Manchester United\"),\n",
    "    (\"Bournemouth\", \"Ipswich\"),\n",
    "    (\"Brighton\", \"Aston Villa\"),\n",
    "    (\"Manchester City\", \"Leicester\"),\n",
    "    (\"Newcastle\", \"Brentford\"),\n",
    "    (\"Southampton\", \"Crystal Palace\"),\n",
    "    (\"Liverpool\", \"Everton\"),\n",
    "    (\"Chelsea\", \"Tottenham\"),\n",
    "]"
   ]
  },
  {
   "cell_type": "code",
   "execution_count": 8,
   "metadata": {},
   "outputs": [],
   "source": [
    "def predict_whole_gameweek(gw: int, matches: list, predict_function: callable):\n",
    "    all_predictions = []\n",
    "\n",
    "    for (home_team, away_team) in matches:\n",
    "        nice_prediction, result_message, home_prob, draw_prob, away_prob = predict_function(home_team, away_team, gw)\n",
    "\n",
    "        print(f\"{result_message}\")\n",
    "        print(f\"Probabilities -> Home: {home_prob:.3f}, Draw: {draw_prob:.3f}, Away: {away_prob:.3f}\")\n",
    "        print(\"#==========#\")\n",
    "\n",
    "        all_predictions.append(\n",
    "            (home_team, away_team, nice_prediction, home_prob, draw_prob, away_prob)\n",
    "        )\n",
    "    \n",
    "    return all_predictions"
   ]
  },
  {
   "cell_type": "markdown",
   "metadata": {},
   "source": [
    "## Logistic Regression"
   ]
  },
  {
   "cell_type": "code",
   "execution_count": 9,
   "metadata": {},
   "outputs": [],
   "source": [
    "from model_predict_functions.logistic_regression_predict import predict_logreg"
   ]
  },
  {
   "cell_type": "code",
   "execution_count": 10,
   "metadata": {},
   "outputs": [
    {
     "name": "stdout",
     "output_type": "stream",
     "text": [
      "Match: Arsenal vs Fulham\n",
      "Prediction: Arsenal Win\n",
      "Probabilities -> Home: 0.544, Draw: 0.300, Away: 0.157\n",
      "#==========#\n",
      "Match: Wolves vs West Ham\n",
      "Prediction: Wolves Win\n",
      "Probabilities -> Home: 0.397, Draw: 0.272, Away: 0.331\n",
      "#==========#\n",
      "Match: Nottingham Forest vs Manchester United\n",
      "Prediction: Nottingham Forest Win\n",
      "Probabilities -> Home: 0.398, Draw: 0.336, Away: 0.266\n",
      "#==========#\n",
      "Match: Bournemouth vs Ipswich\n",
      "Prediction: Bournemouth Win\n",
      "Probabilities -> Home: 0.619, Draw: 0.279, Away: 0.102\n",
      "#==========#\n",
      "Match: Brighton vs Aston Villa\n",
      "Prediction: Brighton Win\n",
      "Probabilities -> Home: 0.515, Draw: 0.340, Away: 0.145\n",
      "#==========#\n",
      "Match: Manchester City vs Leicester\n",
      "Prediction: Manchester City Win\n",
      "Probabilities -> Home: 0.828, Draw: 0.143, Away: 0.030\n",
      "#==========#\n",
      "Match: Newcastle vs Brentford\n",
      "Prediction: Brentford Win\n",
      "Probabilities -> Home: 0.242, Draw: 0.319, Away: 0.438\n",
      "#==========#\n",
      "Match: Southampton vs Crystal Palace\n",
      "Prediction: Crystal Palace Win\n",
      "Probabilities -> Home: 0.041, Draw: 0.225, Away: 0.734\n",
      "#==========#\n",
      "Match: Liverpool vs Everton\n",
      "Prediction: Liverpool Win\n",
      "Probabilities -> Home: 0.793, Draw: 0.172, Away: 0.034\n",
      "#==========#\n",
      "Match: Chelsea vs Tottenham\n",
      "Prediction: Draw\n",
      "Probabilities -> Home: 0.364, Draw: 0.396, Away: 0.240\n",
      "#==========#\n"
     ]
    }
   ],
   "source": [
    "predictions_gw30_logreg = predict_whole_gameweek(30, matches_gw30, predict_logreg)"
   ]
  },
  {
   "cell_type": "markdown",
   "metadata": {},
   "source": [
    "## Random Forest"
   ]
  },
  {
   "cell_type": "code",
   "execution_count": 11,
   "metadata": {},
   "outputs": [],
   "source": [
    "from model_predict_functions.random_forest_predict import predict_rf"
   ]
  },
  {
   "cell_type": "code",
   "execution_count": 12,
   "metadata": {},
   "outputs": [
    {
     "name": "stdout",
     "output_type": "stream",
     "text": [
      "Match: Arsenal vs Fulham\n",
      "Prediction: Arsenal Win\n",
      "Probabilities -> Home: 0.388, Draw: 0.316, Away: 0.295\n",
      "#==========#\n",
      "Match: Wolves vs West Ham\n",
      "Prediction: Draw\n",
      "Probabilities -> Home: 0.235, Draw: 0.444, Away: 0.321\n",
      "#==========#\n",
      "Match: Nottingham Forest vs Manchester United\n",
      "Prediction: Nottingham Forest Win\n",
      "Probabilities -> Home: 0.513, Draw: 0.236, Away: 0.251\n",
      "#==========#\n",
      "Match: Bournemouth vs Ipswich\n",
      "Prediction: Bournemouth Win\n",
      "Probabilities -> Home: 0.472, Draw: 0.350, Away: 0.178\n",
      "#==========#\n",
      "Match: Brighton vs Aston Villa\n",
      "Prediction: Brighton Win\n",
      "Probabilities -> Home: 0.501, Draw: 0.252, Away: 0.247\n",
      "#==========#\n",
      "Match: Manchester City vs Leicester\n",
      "Prediction: Manchester City Win\n",
      "Probabilities -> Home: 0.686, Draw: 0.220, Away: 0.094\n",
      "#==========#\n",
      "Match: Newcastle vs Brentford\n",
      "Prediction: Brentford Win\n",
      "Probabilities -> Home: 0.241, Draw: 0.329, Away: 0.430\n",
      "#==========#\n",
      "Match: Southampton vs Crystal Palace\n",
      "Prediction: Crystal Palace Win\n",
      "Probabilities -> Home: 0.148, Draw: 0.273, Away: 0.578\n",
      "#==========#\n",
      "Match: Liverpool vs Everton\n",
      "Prediction: Liverpool Win\n",
      "Probabilities -> Home: 0.662, Draw: 0.237, Away: 0.100\n",
      "#==========#\n",
      "Match: Chelsea vs Tottenham\n",
      "Prediction: Chelsea Win\n",
      "Probabilities -> Home: 0.440, Draw: 0.348, Away: 0.212\n",
      "#==========#\n"
     ]
    }
   ],
   "source": [
    "predictions_gw30_rf = predict_whole_gameweek(30, matches_gw30, predict_rf)"
   ]
  },
  {
   "cell_type": "markdown",
   "metadata": {},
   "source": [
    "## XGBoost"
   ]
  },
  {
   "cell_type": "code",
   "execution_count": 13,
   "metadata": {},
   "outputs": [],
   "source": [
    "from model_predict_functions.xgboost_predict import predict_xgb"
   ]
  },
  {
   "cell_type": "code",
   "execution_count": 14,
   "metadata": {},
   "outputs": [
    {
     "name": "stdout",
     "output_type": "stream",
     "text": [
      "Match: Arsenal vs Fulham\n",
      "Prediction: Arsenal Win\n",
      "Probabilities -> Home: 0.393, Draw: 0.306, Away: 0.301\n",
      "#==========#\n",
      "Match: Wolves vs West Ham\n",
      "Prediction: Wolves Win\n",
      "Probabilities -> Home: 0.444, Draw: 0.342, Away: 0.214\n",
      "#==========#\n",
      "Match: Nottingham Forest vs Manchester United\n",
      "Prediction: Nottingham Forest Win\n",
      "Probabilities -> Home: 0.570, Draw: 0.237, Away: 0.193\n",
      "#==========#\n",
      "Match: Bournemouth vs Ipswich\n",
      "Prediction: Bournemouth Win\n",
      "Probabilities -> Home: 0.610, Draw: 0.231, Away: 0.158\n",
      "#==========#\n",
      "Match: Brighton vs Aston Villa\n",
      "Prediction: Brighton Win\n",
      "Probabilities -> Home: 0.501, Draw: 0.271, Away: 0.228\n",
      "#==========#\n",
      "Match: Manchester City vs Leicester\n",
      "Prediction: Manchester City Win\n",
      "Probabilities -> Home: 0.616, Draw: 0.225, Away: 0.159\n",
      "#==========#\n",
      "Match: Newcastle vs Brentford\n",
      "Prediction: Newcastle Win\n",
      "Probabilities -> Home: 0.365, Draw: 0.322, Away: 0.313\n",
      "#==========#\n",
      "Match: Southampton vs Crystal Palace\n",
      "Prediction: Crystal Palace Win\n",
      "Probabilities -> Home: 0.209, Draw: 0.245, Away: 0.546\n",
      "#==========#\n",
      "Match: Liverpool vs Everton\n",
      "Prediction: Liverpool Win\n",
      "Probabilities -> Home: 0.760, Draw: 0.143, Away: 0.098\n",
      "#==========#\n",
      "Match: Chelsea vs Tottenham\n",
      "Prediction: Chelsea Win\n",
      "Probabilities -> Home: 0.500, Draw: 0.261, Away: 0.239\n",
      "#==========#\n"
     ]
    }
   ],
   "source": [
    "predictions_gw_30_xgb = predict_whole_gameweek(30, matches_gw30, predict_xgb)"
   ]
  },
  {
   "cell_type": "markdown",
   "metadata": {},
   "source": [
    "## SVM"
   ]
  },
  {
   "cell_type": "code",
   "execution_count": 15,
   "metadata": {},
   "outputs": [],
   "source": [
    "from model_predict_functions.svm_predict import predict_svm"
   ]
  },
  {
   "cell_type": "code",
   "execution_count": 16,
   "metadata": {},
   "outputs": [
    {
     "name": "stdout",
     "output_type": "stream",
     "text": [
      "Match: Arsenal vs Fulham\n",
      "Prediction: Arsenal Win\n",
      "Probabilities -> Home: 0.526, Draw: 0.383, Away: 0.091\n",
      "#==========#\n",
      "Match: Wolves vs West Ham\n",
      "Prediction: Wolves Win\n",
      "Probabilities -> Home: 0.435, Draw: 0.423, Away: 0.143\n",
      "#==========#\n",
      "Match: Nottingham Forest vs Manchester United\n",
      "Prediction: Nottingham Forest Win\n",
      "Probabilities -> Home: 0.668, Draw: 0.281, Away: 0.050\n",
      "#==========#\n",
      "Match: Bournemouth vs Ipswich\n",
      "Prediction: Bournemouth Win\n",
      "Probabilities -> Home: 0.741, Draw: 0.244, Away: 0.015\n",
      "#==========#\n",
      "Match: Brighton vs Aston Villa\n",
      "Prediction: Brighton Win\n",
      "Probabilities -> Home: 0.588, Draw: 0.382, Away: 0.030\n",
      "#==========#\n",
      "Match: Manchester City vs Leicester\n",
      "Prediction: Manchester City Win\n",
      "Probabilities -> Home: 0.890, Draw: 0.107, Away: 0.002\n",
      "#==========#\n",
      "Match: Newcastle vs Brentford\n",
      "Prediction: Brentford Win\n",
      "Probabilities -> Home: 0.077, Draw: 0.414, Away: 0.510\n",
      "#==========#\n",
      "Match: Southampton vs Crystal Palace\n",
      "Prediction: Crystal Palace Win\n",
      "Probabilities -> Home: 0.002, Draw: 0.220, Away: 0.777\n",
      "#==========#\n",
      "Match: Liverpool vs Everton\n",
      "Prediction: Liverpool Win\n",
      "Probabilities -> Home: 0.812, Draw: 0.173, Away: 0.015\n",
      "#==========#\n",
      "Match: Chelsea vs Tottenham\n",
      "Prediction: Draw\n",
      "Probabilities -> Home: 0.271, Draw: 0.527, Away: 0.203\n",
      "#==========#\n"
     ]
    },
    {
     "name": "stderr",
     "output_type": "stream",
     "text": [
      "/Users/poomk/anaconda3/envs/FYP_ML/lib/python3.9/site-packages/sklearn/utils/validation.py:2732: UserWarning: X has feature names, but SVC was fitted without feature names\n",
      "  warnings.warn(\n",
      "/Users/poomk/anaconda3/envs/FYP_ML/lib/python3.9/site-packages/sklearn/utils/validation.py:2732: UserWarning: X has feature names, but SVC was fitted without feature names\n",
      "  warnings.warn(\n",
      "/Users/poomk/anaconda3/envs/FYP_ML/lib/python3.9/site-packages/sklearn/utils/validation.py:2732: UserWarning: X has feature names, but SVC was fitted without feature names\n",
      "  warnings.warn(\n",
      "/Users/poomk/anaconda3/envs/FYP_ML/lib/python3.9/site-packages/sklearn/utils/validation.py:2732: UserWarning: X has feature names, but SVC was fitted without feature names\n",
      "  warnings.warn(\n",
      "/Users/poomk/anaconda3/envs/FYP_ML/lib/python3.9/site-packages/sklearn/utils/validation.py:2732: UserWarning: X has feature names, but SVC was fitted without feature names\n",
      "  warnings.warn(\n",
      "/Users/poomk/anaconda3/envs/FYP_ML/lib/python3.9/site-packages/sklearn/utils/validation.py:2732: UserWarning: X has feature names, but SVC was fitted without feature names\n",
      "  warnings.warn(\n",
      "/Users/poomk/anaconda3/envs/FYP_ML/lib/python3.9/site-packages/sklearn/utils/validation.py:2732: UserWarning: X has feature names, but SVC was fitted without feature names\n",
      "  warnings.warn(\n",
      "/Users/poomk/anaconda3/envs/FYP_ML/lib/python3.9/site-packages/sklearn/utils/validation.py:2732: UserWarning: X has feature names, but SVC was fitted without feature names\n",
      "  warnings.warn(\n",
      "/Users/poomk/anaconda3/envs/FYP_ML/lib/python3.9/site-packages/sklearn/utils/validation.py:2732: UserWarning: X has feature names, but SVC was fitted without feature names\n",
      "  warnings.warn(\n",
      "/Users/poomk/anaconda3/envs/FYP_ML/lib/python3.9/site-packages/sklearn/utils/validation.py:2732: UserWarning: X has feature names, but SVC was fitted without feature names\n",
      "  warnings.warn(\n",
      "/Users/poomk/anaconda3/envs/FYP_ML/lib/python3.9/site-packages/sklearn/utils/validation.py:2732: UserWarning: X has feature names, but SVC was fitted without feature names\n",
      "  warnings.warn(\n",
      "/Users/poomk/anaconda3/envs/FYP_ML/lib/python3.9/site-packages/sklearn/utils/validation.py:2732: UserWarning: X has feature names, but SVC was fitted without feature names\n",
      "  warnings.warn(\n",
      "/Users/poomk/anaconda3/envs/FYP_ML/lib/python3.9/site-packages/sklearn/utils/validation.py:2732: UserWarning: X has feature names, but SVC was fitted without feature names\n",
      "  warnings.warn(\n",
      "/Users/poomk/anaconda3/envs/FYP_ML/lib/python3.9/site-packages/sklearn/utils/validation.py:2732: UserWarning: X has feature names, but SVC was fitted without feature names\n",
      "  warnings.warn(\n",
      "/Users/poomk/anaconda3/envs/FYP_ML/lib/python3.9/site-packages/sklearn/utils/validation.py:2732: UserWarning: X has feature names, but SVC was fitted without feature names\n",
      "  warnings.warn(\n",
      "/Users/poomk/anaconda3/envs/FYP_ML/lib/python3.9/site-packages/sklearn/utils/validation.py:2732: UserWarning: X has feature names, but SVC was fitted without feature names\n",
      "  warnings.warn(\n",
      "/Users/poomk/anaconda3/envs/FYP_ML/lib/python3.9/site-packages/sklearn/utils/validation.py:2732: UserWarning: X has feature names, but SVC was fitted without feature names\n",
      "  warnings.warn(\n",
      "/Users/poomk/anaconda3/envs/FYP_ML/lib/python3.9/site-packages/sklearn/utils/validation.py:2732: UserWarning: X has feature names, but SVC was fitted without feature names\n",
      "  warnings.warn(\n",
      "/Users/poomk/anaconda3/envs/FYP_ML/lib/python3.9/site-packages/sklearn/utils/validation.py:2732: UserWarning: X has feature names, but SVC was fitted without feature names\n",
      "  warnings.warn(\n",
      "/Users/poomk/anaconda3/envs/FYP_ML/lib/python3.9/site-packages/sklearn/utils/validation.py:2732: UserWarning: X has feature names, but SVC was fitted without feature names\n",
      "  warnings.warn(\n"
     ]
    }
   ],
   "source": [
    "predictions_gw30_svm = predict_whole_gameweek(30, matches_gw30, predict_svm)"
   ]
  },
  {
   "cell_type": "markdown",
   "metadata": {},
   "source": [
    "## MLP"
   ]
  },
  {
   "cell_type": "code",
   "execution_count": 17,
   "metadata": {},
   "outputs": [],
   "source": [
    "from model_predict_functions.mlp_predict import predict_mlp"
   ]
  },
  {
   "cell_type": "code",
   "execution_count": 18,
   "metadata": {},
   "outputs": [
    {
     "name": "stderr",
     "output_type": "stream",
     "text": [
      "WARNING:absl:Compiled the loaded model, but the compiled metrics have yet to be built. `model.compile_metrics` will be empty until you train or evaluate the model.\n"
     ]
    },
    {
     "name": "stdout",
     "output_type": "stream",
     "text": [
      "\u001b[1m1/1\u001b[0m \u001b[32m━━━━━━━━━━━━━━━━━━━━\u001b[0m\u001b[37m\u001b[0m \u001b[1m0s\u001b[0m 33ms/step\n"
     ]
    },
    {
     "name": "stderr",
     "output_type": "stream",
     "text": [
      "WARNING:absl:Compiled the loaded model, but the compiled metrics have yet to be built. `model.compile_metrics` will be empty until you train or evaluate the model.\n"
     ]
    },
    {
     "name": "stdout",
     "output_type": "stream",
     "text": [
      "Match: Arsenal vs Fulham\n",
      "Prediction: Arsenal Win\n",
      "Probabilities -> Home: 0.634, Draw: 0.280, Away: 0.085\n",
      "#==========#\n",
      "\u001b[1m1/1\u001b[0m \u001b[32m━━━━━━━━━━━━━━━━━━━━\u001b[0m\u001b[37m\u001b[0m \u001b[1m0s\u001b[0m 27ms/step\n"
     ]
    },
    {
     "name": "stderr",
     "output_type": "stream",
     "text": [
      "WARNING:absl:Compiled the loaded model, but the compiled metrics have yet to be built. `model.compile_metrics` will be empty until you train or evaluate the model.\n"
     ]
    },
    {
     "name": "stdout",
     "output_type": "stream",
     "text": [
      "Match: Wolves vs West Ham\n",
      "Prediction: West Ham Win\n",
      "Probabilities -> Home: 0.373, Draw: 0.243, Away: 0.384\n",
      "#==========#\n",
      "\u001b[1m1/1\u001b[0m \u001b[32m━━━━━━━━━━━━━━━━━━━━\u001b[0m\u001b[37m\u001b[0m \u001b[1m0s\u001b[0m 28ms/step\n"
     ]
    },
    {
     "name": "stderr",
     "output_type": "stream",
     "text": [
      "WARNING:absl:Compiled the loaded model, but the compiled metrics have yet to be built. `model.compile_metrics` will be empty until you train or evaluate the model.\n"
     ]
    },
    {
     "name": "stdout",
     "output_type": "stream",
     "text": [
      "Match: Nottingham Forest vs Manchester United\n",
      "Prediction: Draw\n",
      "Probabilities -> Home: 0.356, Draw: 0.373, Away: 0.271\n",
      "#==========#\n",
      "\u001b[1m1/1\u001b[0m \u001b[32m━━━━━━━━━━━━━━━━━━━━\u001b[0m\u001b[37m\u001b[0m \u001b[1m0s\u001b[0m 31ms/step\n"
     ]
    },
    {
     "name": "stderr",
     "output_type": "stream",
     "text": [
      "WARNING:absl:Compiled the loaded model, but the compiled metrics have yet to be built. `model.compile_metrics` will be empty until you train or evaluate the model.\n"
     ]
    },
    {
     "name": "stdout",
     "output_type": "stream",
     "text": [
      "Match: Bournemouth vs Ipswich\n",
      "Prediction: Draw\n",
      "Probabilities -> Home: 0.445, Draw: 0.494, Away: 0.061\n",
      "#==========#\n",
      "WARNING:tensorflow:5 out of the last 5 calls to <function TensorFlowTrainer.make_predict_function.<locals>.one_step_on_data_distributed at 0x2a168d040> triggered tf.function retracing. Tracing is expensive and the excessive number of tracings could be due to (1) creating @tf.function repeatedly in a loop, (2) passing tensors with different shapes, (3) passing Python objects instead of tensors. For (1), please define your @tf.function outside of the loop. For (2), @tf.function has reduce_retracing=True option that can avoid unnecessary retracing. For (3), please refer to https://www.tensorflow.org/guide/function#controlling_retracing and https://www.tensorflow.org/api_docs/python/tf/function for  more details.\n"
     ]
    },
    {
     "name": "stderr",
     "output_type": "stream",
     "text": [
      "WARNING:tensorflow:5 out of the last 5 calls to <function TensorFlowTrainer.make_predict_function.<locals>.one_step_on_data_distributed at 0x2a168d040> triggered tf.function retracing. Tracing is expensive and the excessive number of tracings could be due to (1) creating @tf.function repeatedly in a loop, (2) passing tensors with different shapes, (3) passing Python objects instead of tensors. For (1), please define your @tf.function outside of the loop. For (2), @tf.function has reduce_retracing=True option that can avoid unnecessary retracing. For (3), please refer to https://www.tensorflow.org/guide/function#controlling_retracing and https://www.tensorflow.org/api_docs/python/tf/function for  more details.\n"
     ]
    },
    {
     "name": "stdout",
     "output_type": "stream",
     "text": [
      "\u001b[1m1/1\u001b[0m \u001b[32m━━━━━━━━━━━━━━━━━━━━\u001b[0m\u001b[37m\u001b[0m \u001b[1m0s\u001b[0m 30ms/step\n"
     ]
    },
    {
     "name": "stderr",
     "output_type": "stream",
     "text": [
      "WARNING:absl:Compiled the loaded model, but the compiled metrics have yet to be built. `model.compile_metrics` will be empty until you train or evaluate the model.\n"
     ]
    },
    {
     "name": "stdout",
     "output_type": "stream",
     "text": [
      "Match: Brighton vs Aston Villa\n",
      "Prediction: Brighton Win\n",
      "Probabilities -> Home: 0.631, Draw: 0.293, Away: 0.076\n",
      "#==========#\n",
      "WARNING:tensorflow:6 out of the last 6 calls to <function TensorFlowTrainer.make_predict_function.<locals>.one_step_on_data_distributed at 0x2a0c6a4c0> triggered tf.function retracing. Tracing is expensive and the excessive number of tracings could be due to (1) creating @tf.function repeatedly in a loop, (2) passing tensors with different shapes, (3) passing Python objects instead of tensors. For (1), please define your @tf.function outside of the loop. For (2), @tf.function has reduce_retracing=True option that can avoid unnecessary retracing. For (3), please refer to https://www.tensorflow.org/guide/function#controlling_retracing and https://www.tensorflow.org/api_docs/python/tf/function for  more details.\n"
     ]
    },
    {
     "name": "stderr",
     "output_type": "stream",
     "text": [
      "WARNING:tensorflow:6 out of the last 6 calls to <function TensorFlowTrainer.make_predict_function.<locals>.one_step_on_data_distributed at 0x2a0c6a4c0> triggered tf.function retracing. Tracing is expensive and the excessive number of tracings could be due to (1) creating @tf.function repeatedly in a loop, (2) passing tensors with different shapes, (3) passing Python objects instead of tensors. For (1), please define your @tf.function outside of the loop. For (2), @tf.function has reduce_retracing=True option that can avoid unnecessary retracing. For (3), please refer to https://www.tensorflow.org/guide/function#controlling_retracing and https://www.tensorflow.org/api_docs/python/tf/function for  more details.\n"
     ]
    },
    {
     "name": "stdout",
     "output_type": "stream",
     "text": [
      "\u001b[1m1/1\u001b[0m \u001b[32m━━━━━━━━━━━━━━━━━━━━\u001b[0m\u001b[37m\u001b[0m \u001b[1m0s\u001b[0m 31ms/step\n"
     ]
    },
    {
     "name": "stderr",
     "output_type": "stream",
     "text": [
      "WARNING:absl:Compiled the loaded model, but the compiled metrics have yet to be built. `model.compile_metrics` will be empty until you train or evaluate the model.\n"
     ]
    },
    {
     "name": "stdout",
     "output_type": "stream",
     "text": [
      "Match: Manchester City vs Leicester\n",
      "Prediction: Manchester City Win\n",
      "Probabilities -> Home: 0.855, Draw: 0.126, Away: 0.020\n",
      "#==========#\n",
      "\u001b[1m1/1\u001b[0m \u001b[32m━━━━━━━━━━━━━━━━━━━━\u001b[0m\u001b[37m\u001b[0m \u001b[1m0s\u001b[0m 27ms/step\n"
     ]
    },
    {
     "name": "stderr",
     "output_type": "stream",
     "text": [
      "WARNING:absl:Compiled the loaded model, but the compiled metrics have yet to be built. `model.compile_metrics` will be empty until you train or evaluate the model.\n"
     ]
    },
    {
     "name": "stdout",
     "output_type": "stream",
     "text": [
      "Match: Newcastle vs Brentford\n",
      "Prediction: Draw\n",
      "Probabilities -> Home: 0.308, Draw: 0.408, Away: 0.284\n",
      "#==========#\n",
      "\u001b[1m1/1\u001b[0m \u001b[32m━━━━━━━━━━━━━━━━━━━━\u001b[0m\u001b[37m\u001b[0m \u001b[1m0s\u001b[0m 29ms/step\n"
     ]
    },
    {
     "name": "stderr",
     "output_type": "stream",
     "text": [
      "WARNING:absl:Compiled the loaded model, but the compiled metrics have yet to be built. `model.compile_metrics` will be empty until you train or evaluate the model.\n"
     ]
    },
    {
     "name": "stdout",
     "output_type": "stream",
     "text": [
      "Match: Southampton vs Crystal Palace\n",
      "Prediction: Crystal Palace Win\n",
      "Probabilities -> Home: 0.102, Draw: 0.278, Away: 0.620\n",
      "#==========#\n",
      "\u001b[1m1/1\u001b[0m \u001b[32m━━━━━━━━━━━━━━━━━━━━\u001b[0m\u001b[37m\u001b[0m \u001b[1m0s\u001b[0m 28ms/step\n"
     ]
    },
    {
     "name": "stderr",
     "output_type": "stream",
     "text": [
      "WARNING:absl:Compiled the loaded model, but the compiled metrics have yet to be built. `model.compile_metrics` will be empty until you train or evaluate the model.\n"
     ]
    },
    {
     "name": "stdout",
     "output_type": "stream",
     "text": [
      "Match: Liverpool vs Everton\n",
      "Prediction: Liverpool Win\n",
      "Probabilities -> Home: 0.770, Draw: 0.190, Away: 0.040\n",
      "#==========#\n",
      "\u001b[1m1/1\u001b[0m \u001b[32m━━━━━━━━━━━━━━━━━━━━\u001b[0m\u001b[37m\u001b[0m \u001b[1m0s\u001b[0m 30ms/step\n",
      "Match: Chelsea vs Tottenham\n",
      "Prediction: Chelsea Win\n",
      "Probabilities -> Home: 0.443, Draw: 0.311, Away: 0.246\n",
      "#==========#\n"
     ]
    }
   ],
   "source": [
    "predictions_gw30_mlp = predict_whole_gameweek(30, matches_gw30, predict_mlp)"
   ]
  },
  {
   "cell_type": "markdown",
   "metadata": {},
   "source": [
    "# Save all predictions into a table"
   ]
  },
  {
   "cell_type": "code",
   "execution_count": 19,
   "metadata": {},
   "outputs": [],
   "source": [
    "gameweek = 30\n",
    "\n",
    "output_file = f\"prediction_results/gw{gameweek}_predictions_full.csv\"\n",
    "\n",
    "model_names = [\n",
    "    \"Logistic Regression\",\n",
    "    \"Random Forest\",\n",
    "    \"XGBoost\",\n",
    "    \"SVM\",\n",
    "    \"MLP\"\n",
    "]\n",
    "\n",
    "with open(output_file, \"w\") as f:\n",
    "    f.write(\"Model,Home Team,Away Team,Nice Prediction,Home Probability,Draw Probability,Away Probability\\n\")\n",
    "    for match in matches_gw30:\n",
    "        home_team, away_team = match\n",
    "        for prediction in [predictions_gw30_logreg, predictions_gw30_rf, predictions_gw_30_xgb, predictions_gw30_svm, predictions_gw30_mlp]:\n",
    "            if prediction == predictions_gw30_logreg:\n",
    "                model_name = \"Logistic Regression\"\n",
    "            elif prediction == predictions_gw30_rf:\n",
    "                model_name = \"Random Forest\"\n",
    "            elif prediction == predictions_gw_30_xgb:\n",
    "                model_name = \"XGBoost\"\n",
    "            elif prediction == predictions_gw30_svm:\n",
    "                model_name = \"SVM\"\n",
    "            elif prediction == predictions_gw30_mlp:\n",
    "                model_name = \"MLP\"\n",
    "            for pred in prediction:\n",
    "                if pred[0] == home_team and pred[1] == away_team:\n",
    "                    f.write(f\"{model_name},{home_team},{away_team},{pred[2]},{pred[3]:.3f},{pred[4]:.3f},{pred[5]:.3f}\\n\")"
   ]
  },
  {
   "cell_type": "code",
   "execution_count": 20,
   "metadata": {},
   "outputs": [
    {
     "name": "stdout",
     "output_type": "stream",
     "text": [
      "Summary predictions saved to prediction_results/gw30_predictions_summary.csv\n"
     ]
    }
   ],
   "source": [
    "import csv\n",
    "\n",
    "output_file = \"prediction_results/gw30_predictions_summary.csv\"\n",
    "\n",
    "with open(output_file, \"w\", newline=\"\") as f:\n",
    "    writer = csv.writer(f)\n",
    "    # Write header: one column for the match and one for each model\n",
    "    writer.writerow([\"Match\", \"Logistic Regression\", \"Random Forest\", \"XGBoost\", \"SVM\", \"MLP\"])\n",
    "    \n",
    "    # For each match, find the corresponding prediction from each model (by matching home and away teams)\n",
    "    for home_team, away_team in matches_gw30:\n",
    "        match_str = f\"{home_team} vs {away_team}\"\n",
    "        logreg_pred = next((p for p in predictions_gw30_logreg if p[0] == home_team and p[1] == away_team), None)\n",
    "        rf_pred     = next((p for p in predictions_gw30_rf    if p[0] == home_team and p[1] == away_team), None)\n",
    "        xgb_pred    = next((p for p in predictions_gw_30_xgb  if p[0] == home_team and p[1] == away_team), None)\n",
    "        svm_pred    = next((p for p in predictions_gw30_svm   if p[0] == home_team and p[1] == away_team), None)\n",
    "        mlp_pred    = next((p for p in predictions_gw30_mlp   if p[0] == home_team and p[1] == away_team), None)\n",
    "        \n",
    "        # If any prediction is missing, you can print a warning and skip the match.\n",
    "        if None in (logreg_pred, rf_pred, xgb_pred, svm_pred, mlp_pred):\n",
    "            print(f\"Warning: Missing prediction for match {match_str}\")\n",
    "            continue\n",
    "        \n",
    "        writer.writerow([\n",
    "            match_str,\n",
    "            logreg_pred[2],\n",
    "            rf_pred[2],\n",
    "            xgb_pred[2],\n",
    "            svm_pred[2],\n",
    "            mlp_pred[2]\n",
    "        ])\n",
    "\n",
    "print(f\"Summary predictions saved to {output_file}\")"
   ]
  },
  {
   "cell_type": "code",
   "execution_count": 21,
   "metadata": {},
   "outputs": [],
   "source": [
    "def ensemble_gameweek_predictions(list_of_model_predictions: list):\n",
    "    if not list_of_model_predictions:\n",
    "        return []\n",
    "    \n",
    "    combined_predictions = []\n",
    "    n_models = len(list_of_model_predictions)\n",
    "    n_matches = len(list_of_model_predictions[0])\n",
    "    \n",
    "    for i in range(n_matches):\n",
    "        home_team, away_team, _, _, _, _ = list_of_model_predictions[0][i]\n",
    "        \n",
    "        total_home_prob, total_draw_prob, total_away_prob = 0, 0, 0\n",
    "\n",
    "        for model_predictions in list_of_model_predictions:\n",
    "            h_team, a_team, _, home_prob, draw_prob, away_prob = model_predictions[i]\n",
    "            if h_team != home_team or a_team != away_team:\n",
    "                raise ValueError(\"Mismatch in match order or team names across model predictions.\")\n",
    "            \n",
    "            total_home_prob += home_prob\n",
    "            total_draw_prob += draw_prob\n",
    "            total_away_prob += away_prob\n",
    "        \n",
    "        avg_home_prob = total_home_prob / n_models\n",
    "        avg_draw_prob = total_draw_prob / n_models\n",
    "        avg_away_prob = total_away_prob / n_models\n",
    "        \n",
    "        if avg_home_prob >= avg_draw_prob and avg_home_prob >= avg_away_prob:\n",
    "            combined_prediction = f\"{home_team} wins\"\n",
    "        elif avg_draw_prob >= avg_home_prob and avg_draw_prob >= avg_away_prob:\n",
    "            combined_prediction = \"Draw\"\n",
    "        else:\n",
    "            combined_prediction = f\"{away_team} wins\"\n",
    "        \n",
    "        combined_predictions.append(\n",
    "            (home_team, away_team, combined_prediction, avg_home_prob, avg_draw_prob, avg_away_prob)\n",
    "        )\n",
    "\n",
    "        print(f\"Match: {home_team} vs {away_team}\")\n",
    "        print(f\"Combined Prediction: {combined_prediction}\")\n",
    "        print(f\"Combined Probabilities -> Home: {avg_home_prob:.4f}, Draw: {avg_draw_prob:.4f}, Away: {avg_away_prob:.4f}\")\n",
    "        print(\"#==========#\")\n",
    "        \n",
    "        df = pd.DataFrame(combined_predictions, columns=[\n",
    "        \"Home Team\", \"Away Team\", \"Combined Prediction\", \"Avg Home Prob\", \"Avg Draw Prob\", \"Avg Away Prob\"\n",
    "        ])\n",
    "        df[\"Avg Home Prob\"] = df[\"Avg Home Prob\"].apply(lambda x: format(x, \".4g\"))\n",
    "        df[\"Avg Draw Prob\"] = df[\"Avg Draw Prob\"].apply(lambda x: format(x, \".4g\"))\n",
    "        df[\"Avg Away Prob\"] = df[\"Avg Away Prob\"].apply(lambda x: format(x, \".4g\"))\n",
    "        df.to_csv(\"prediction_results/gw30_predictions_ensemble.csv\", index=False)\n",
    "        print(f\"Results saved to {output_file}\")\n",
    "    \n",
    "    return combined_predictions\n"
   ]
  },
  {
   "cell_type": "code",
   "execution_count": 22,
   "metadata": {},
   "outputs": [
    {
     "name": "stdout",
     "output_type": "stream",
     "text": [
      "Match: Arsenal vs Fulham\n",
      "Combined Prediction: Arsenal wins\n",
      "Combined Probabilities -> Home: 0.4971, Draw: 0.3170, Away: 0.1858\n",
      "#==========#\n",
      "Results saved to prediction_results/gw30_predictions_summary.csv\n",
      "Match: Wolves vs West Ham\n",
      "Combined Prediction: Wolves wins\n",
      "Combined Probabilities -> Home: 0.3767, Draw: 0.3449, Away: 0.2785\n",
      "#==========#\n",
      "Results saved to prediction_results/gw30_predictions_summary.csv\n",
      "Match: Nottingham Forest vs Manchester United\n",
      "Combined Prediction: Nottingham Forest wins\n",
      "Combined Probabilities -> Home: 0.5011, Draw: 0.2927, Away: 0.2062\n",
      "#==========#\n",
      "Results saved to prediction_results/gw30_predictions_summary.csv\n",
      "Match: Bournemouth vs Ipswich\n",
      "Combined Prediction: Bournemouth wins\n",
      "Combined Probabilities -> Home: 0.5774, Draw: 0.3197, Away: 0.1029\n",
      "#==========#\n",
      "Results saved to prediction_results/gw30_predictions_summary.csv\n",
      "Match: Brighton vs Aston Villa\n",
      "Combined Prediction: Brighton wins\n",
      "Combined Probabilities -> Home: 0.5472, Draw: 0.3075, Away: 0.1452\n",
      "#==========#\n",
      "Results saved to prediction_results/gw30_predictions_summary.csv\n",
      "Match: Manchester City vs Leicester\n",
      "Combined Prediction: Manchester City wins\n",
      "Combined Probabilities -> Home: 0.7750, Draw: 0.1642, Away: 0.0608\n",
      "#==========#\n",
      "Results saved to prediction_results/gw30_predictions_summary.csv\n",
      "Match: Newcastle vs Brentford\n",
      "Combined Prediction: Brentford wins\n",
      "Combined Probabilities -> Home: 0.2465, Draw: 0.3584, Away: 0.3952\n",
      "#==========#\n",
      "Results saved to prediction_results/gw30_predictions_summary.csv\n",
      "Match: Southampton vs Crystal Palace\n",
      "Combined Prediction: Crystal Palace wins\n",
      "Combined Probabilities -> Home: 0.1006, Draw: 0.2485, Away: 0.6509\n",
      "#==========#\n",
      "Results saved to prediction_results/gw30_predictions_summary.csv\n",
      "Match: Liverpool vs Everton\n",
      "Combined Prediction: Liverpool wins\n",
      "Combined Probabilities -> Home: 0.7594, Draw: 0.1831, Away: 0.0575\n",
      "#==========#\n",
      "Results saved to prediction_results/gw30_predictions_summary.csv\n",
      "Match: Chelsea vs Tottenham\n",
      "Combined Prediction: Chelsea wins\n",
      "Combined Probabilities -> Home: 0.4035, Draw: 0.3686, Away: 0.2279\n",
      "#==========#\n",
      "Results saved to prediction_results/gw30_predictions_summary.csv\n"
     ]
    }
   ],
   "source": [
    "combined_predictions = ensemble_gameweek_predictions([predictions_gw30_logreg, predictions_gw30_rf, predictions_gw_30_xgb, predictions_gw30_svm, predictions_gw30_mlp])"
   ]
  }
 ],
 "metadata": {
  "kernelspec": {
   "display_name": "FYP_ML",
   "language": "python",
   "name": "python3"
  },
  "language_info": {
   "codemirror_mode": {
    "name": "ipython",
    "version": 3
   },
   "file_extension": ".py",
   "mimetype": "text/x-python",
   "name": "python",
   "nbconvert_exporter": "python",
   "pygments_lexer": "ipython3",
   "version": "3.9.21"
  }
 },
 "nbformat": 4,
 "nbformat_minor": 2
}
