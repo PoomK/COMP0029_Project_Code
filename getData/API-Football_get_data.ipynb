{
 "cells": [
  {
   "cell_type": "markdown",
   "metadata": {},
   "source": [
    "## Import libraries"
   ]
  },
  {
   "cell_type": "code",
   "execution_count": 1,
   "metadata": {},
   "outputs": [],
   "source": [
    "import requests\n",
    "import pandas as pd\n",
    "import time"
   ]
  },
  {
   "cell_type": "markdown",
   "metadata": {},
   "source": [
    "## API key and get PL id"
   ]
  },
  {
   "cell_type": "code",
   "execution_count": 2,
   "metadata": {},
   "outputs": [],
   "source": [
    "# Get API Key\n",
    "with open('api_key.txt', 'r') as file:\n",
    "    api_key = file.read().replace('\\n', '')\n",
    "\n",
    "base_url = 'https://v3.football.api-sports.io/'"
   ]
  },
  {
   "cell_type": "code",
   "execution_count": 3,
   "metadata": {},
   "outputs": [],
   "source": [
    "headers = {\n",
    "    'x-apisports-key': api_key\n",
    "}"
   ]
  },
  {
   "cell_type": "code",
   "execution_count": 4,
   "metadata": {},
   "outputs": [
    {
     "name": "stdout",
     "output_type": "stream",
     "text": [
      "Premier League ID: 39\n"
     ]
    }
   ],
   "source": [
    "# Existing code to get Premier League ID\n",
    "leagues_endpoint = f'{base_url}leagues'\n",
    "\n",
    "# Parameters to filter for Premier League\n",
    "params = {\n",
    "    'name': 'Premier League',\n",
    "    'country': 'England'\n",
    "}\n",
    "\n",
    "response = requests.get(leagues_endpoint, headers=headers, params=params)\n",
    "leagues = response.json()\n",
    "\n",
    "# Extract the league ID\n",
    "premier_league_id = leagues['response'][0]['league']['id']\n",
    "print(f\"Premier League ID: {premier_league_id}\")"
   ]
  },
  {
   "cell_type": "code",
   "execution_count": 5,
   "metadata": {},
   "outputs": [
    {
     "name": "stdout",
     "output_type": "stream",
     "text": [
      "\n",
      "Available Seasons for Premier League:\n",
      "- 2010: 2010-08-14 to 2011-05-17\n",
      "- 2011: 2011-08-13 to 2012-05-13\n",
      "- 2012: 2012-08-18 to 2013-05-19\n",
      "- 2013: 2013-08-17 to 2014-05-11\n",
      "- 2014: 2014-08-16 to 2015-05-24\n",
      "- 2015: 2015-08-08 to 2016-05-17\n",
      "- 2016: 2016-08-13 to 2017-05-21\n",
      "- 2017: 2017-08-11 to 2018-05-13\n",
      "- 2018: 2018-08-10 to 2019-05-12\n",
      "- 2019: 2019-08-09 to 2020-07-26\n",
      "- 2020: 2020-09-12 to 2021-05-23\n",
      "- 2021: 2021-08-13 to 2022-05-22\n",
      "- 2022: 2022-08-05 to 2023-05-28\n",
      "- 2023: 2023-08-11 to 2024-05-19\n",
      "- 2024: 2024-08-16 to 2025-05-25 (Current Season)\n"
     ]
    }
   ],
   "source": [
    "# Extract league info and available seasons\n",
    "league_info = leagues['response'][0]\n",
    "available_seasons = league_info['seasons']\n",
    "\n",
    "# Print all available seasons\n",
    "print(f\"\\nAvailable Seasons for Premier League:\")\n",
    "for season in available_seasons:\n",
    "    year = season['year']\n",
    "    start_date = season.get('start', 'N/A')\n",
    "    end_date = season.get('end', 'N/A')\n",
    "    is_current = season['current']\n",
    "    current_flag = ' (Current Season)' if is_current else ''\n",
    "    print(f\"- {year}: {start_date} to {end_date}{current_flag}\")"
   ]
  },
  {
   "cell_type": "markdown",
   "metadata": {},
   "source": [
    "## Retrieve lists of statistics available"
   ]
  },
  {
   "cell_type": "code",
   "execution_count": 6,
   "metadata": {},
   "outputs": [
    {
     "name": "stdout",
     "output_type": "stream",
     "text": [
      "\n",
      "Fixture ID: 1035037\n",
      "Date: 2023-08-11T19:00:00+00:00\n",
      "Venue: Turf Moor (Burnley)\n",
      "Referee: C. Pawson\n",
      "Burnley vs Manchester City\n",
      "Score: 0 - 3\n",
      "Result: Manchester City Wins\n",
      "\n",
      "Available statistics for fixture ID 1035037:\n",
      "\n",
      "Stats for Burnley:\n",
      "Shots on Goal: 1\n",
      "Shots off Goal: 3\n",
      "Total Shots: 6\n",
      "Blocked Shots: 2\n",
      "Shots insidebox: 5\n",
      "Shots outsidebox: 1\n",
      "Fouls: 11\n",
      "Corner Kicks: 6\n",
      "Offsides: 0\n",
      "Ball Possession: 34%\n",
      "Yellow Cards: None\n",
      "Red Cards: 1\n",
      "Goalkeeper Saves: 5\n",
      "Total passes: 365\n",
      "Passes accurate: 290\n",
      "Passes %: 79%\n",
      "expected_goals: 0.33\n",
      "\n",
      "Stats for Manchester City:\n",
      "Shots on Goal: 8\n",
      "Shots off Goal: 4\n",
      "Total Shots: 17\n",
      "Blocked Shots: 5\n",
      "Shots insidebox: 14\n",
      "Shots outsidebox: 3\n",
      "Fouls: 8\n",
      "Corner Kicks: 5\n",
      "Offsides: 1\n",
      "Ball Possession: 66%\n",
      "Yellow Cards: None\n",
      "Red Cards: 0\n",
      "Goalkeeper Saves: 1\n",
      "Total passes: 706\n",
      "Passes accurate: 634\n",
      "Passes %: 90%\n",
      "expected_goals: 2.08\n"
     ]
    }
   ],
   "source": [
    "# Define the season\n",
    "season = '2023'\n",
    "\n",
    "# Endpoint to get fixtures\n",
    "fixtures_endpoint = f'{base_url}fixtures'\n",
    "\n",
    "# Parameters to filter fixtures\n",
    "params = {\n",
    "    'league': premier_league_id,\n",
    "    'season': season\n",
    "}\n",
    "\n",
    "# Fetch fixtures\n",
    "response = requests.get(fixtures_endpoint, headers=headers, params=params)\n",
    "fixtures = response.json()\n",
    "\n",
    "# Check if fixtures are available\n",
    "# Check if fixtures are available\n",
    "if not fixtures['response']:\n",
    "    print(\"No fixtures found for the selected season and league.\")\n",
    "else:\n",
    "    # Pick the first fixture to explore stats\n",
    "    first_fixture = fixtures['response'][0]\n",
    "    first_fixture_id = first_fixture['fixture']['id']\n",
    "\n",
    "    # Extract and print general fixture information\n",
    "    fixture_info = first_fixture['fixture']\n",
    "    teams_info = first_fixture['teams']\n",
    "    goals_info = first_fixture['goals']\n",
    "\n",
    "    print(f\"\\nFixture ID: {first_fixture_id}\")\n",
    "    print(f\"Date: {fixture_info['date']}\")\n",
    "    print(f\"Venue: {fixture_info['venue']['name']} ({fixture_info['venue']['city']})\")\n",
    "    print(f\"Referee: {fixture_info.get('referee', 'N/A')}\")\n",
    "    print(f\"{teams_info['home']['name']} vs {teams_info['away']['name']}\")\n",
    "    print(f\"Score: {goals_info['home']} - {goals_info['away']}\")\n",
    "\n",
    "    # Determine Match Result\n",
    "    if goals_info['home'] > goals_info['away']:\n",
    "        match_result = f\"{teams_info['home']['name']} Wins\"\n",
    "    elif goals_info['home'] < goals_info['away']:\n",
    "        match_result = f\"{teams_info['away']['name']} Wins\"\n",
    "    else:\n",
    "        match_result = \"Draw\"\n",
    "    print(f\"Result: {match_result}\")\n",
    "\n",
    "    # Endpoint to get fixture statistics\n",
    "    stats_endpoint = f'{base_url}fixtures/statistics'\n",
    "    stats_params = {'fixture': first_fixture_id}\n",
    "\n",
    "    stats_response = requests.get(stats_endpoint, headers=headers, params=stats_params)\n",
    "    stats = stats_response.json()\n",
    "\n",
    "    # List all available statistics categories\n",
    "    print(f\"\\nAvailable statistics for fixture ID {first_fixture_id}:\")\n",
    "    for team_stats in stats['response']:\n",
    "        team_name = team_stats['team']['name']\n",
    "        print(f\"\\nStats for {team_name}:\")\n",
    "        for stat in team_stats['statistics']:\n",
    "            print(f\"{stat['type']}: {stat['value']}\")\n"
   ]
  },
  {
   "cell_type": "markdown",
   "metadata": {},
   "source": [
    "## Get Fixtures and Statistics"
   ]
  },
  {
   "cell_type": "markdown",
   "metadata": {},
   "source": [
    "### Parameters"
   ]
  },
  {
   "cell_type": "code",
   "execution_count": 43,
   "metadata": {},
   "outputs": [],
   "source": [
    "csv_output_file_2021 = \"../data/API-Football/API-Football-Data-2021:22.csv\"\n",
    "csv_output_file_2022 = \"../data/API-Football/API-Football-Data-2022:23.csv\"\n",
    "csv_output_file_2023 = \"../data/API-Football/API-Football-Data-2023:24.csv\"\n",
    "premier_league_id = premier_league_id\n",
    "\n",
    "desired_stats = [\n",
    "    \"Shots on Goal\", \"Shots off Goal\", \"Total Shots\", \"Blocked Shots\",\n",
    "    \"Shots insidebox\", \"Shots outsidebox\", \"Fouls\", \"Corner Kicks\", \"Offsides\",\n",
    "    \"Ball Possession\", \"Yellow Cards\", \"Red Cards\", \"Goalkeeper Saves\",\n",
    "    \"Total passes\", \"Passes accurate\", \"Passes %\", \"expected_goals\"\n",
    "]"
   ]
  },
  {
   "cell_type": "code",
   "execution_count": 18,
   "metadata": {},
   "outputs": [],
   "source": [
    "def get_season_data(season_in):\n",
    "    # Initialize an empty list to store match data\n",
    "    match_data = []\n",
    "\n",
    "    # Fetch fixtures for the 2023 season\n",
    "    fixtures_endpoint = f'{base_url}fixtures'\n",
    "    params = {\n",
    "        'league': premier_league_id,\n",
    "        'season': season_in\n",
    "    }\n",
    "\n",
    "    response = requests.get(fixtures_endpoint, headers=headers, params=params)\n",
    "    fixtures = response.json()\n",
    "\n",
    "    if not fixtures['response']:\n",
    "        print(\"No fixtures found for the 2023 season.\")\n",
    "    else:\n",
    "        print(f\"Found {len(fixtures['response'])} fixtures. Gathering data...\")\n",
    "\n",
    "        for fixture in fixtures['response']:\n",
    "            fixture_id = fixture['fixture']['id']\n",
    "            fixture_info = fixture['fixture']\n",
    "            teams_info = fixture['teams']\n",
    "            goals_info = fixture['goals']\n",
    "            \n",
    "            if goals_info['home'] is None or goals_info['away'] is None:\n",
    "                continue\n",
    "\n",
    "            # Basic match details\n",
    "            match_details = {\n",
    "                'Fixture ID': fixture_id,\n",
    "                'Date': fixture_info['date'],\n",
    "                'Referee': fixture_info.get('referee', 'N/A'),\n",
    "                'Venue': fixture_info['venue']['name'],\n",
    "                'City': fixture_info['venue']['city'],\n",
    "                'Home Team': teams_info['home']['name'],\n",
    "                'Away Team': teams_info['away']['name'],\n",
    "                'Home Team Goals': goals_info['home'],  # Organized under Home Team Goals\n",
    "                'Away Team Goals': goals_info['away']   # Organized under Away Team Goals\n",
    "            }\n",
    "\n",
    "            # Determine match result\n",
    "            if goals_info['home'] > goals_info['away']:\n",
    "                match_details['Result'] = 'Home Win'\n",
    "            elif goals_info['home'] < goals_info['away']:\n",
    "                match_details['Result'] = 'Away Win'\n",
    "            else:\n",
    "                match_details['Result'] = 'Draw'\n",
    "\n",
    "            # Fetch match statistics\n",
    "            stats_endpoint = f'{base_url}fixtures/statistics'\n",
    "            stats_params = {'fixture': fixture_id}\n",
    "            stats_response = requests.get(stats_endpoint, headers=headers, params=stats_params)\n",
    "            stats_data = stats_response.json()\n",
    "\n",
    "            # Initialize stats for both teams\n",
    "            for team_stats in stats_data.get('response', []):\n",
    "                team_name = team_stats['team']['name']\n",
    "                prefix = 'Home' if team_name == match_details['Home Team'] else 'Away'\n",
    "\n",
    "                # Extract desired stats\n",
    "                for stat in team_stats['statistics']:\n",
    "                    stat_name = stat['type']\n",
    "                    stat_value = stat['value'] if stat['value'] is not None else 0\n",
    "\n",
    "                    if stat_name in desired_stats:\n",
    "                        match_details[f'{prefix} {stat_name}'] = stat_value\n",
    "\n",
    "            # Append match data\n",
    "            match_data.append(match_details)\n",
    "\n",
    "            # To avoid hitting API rate limits\n",
    "            time.sleep(1)\n",
    "            \n",
    "    return match_data"
   ]
  },
  {
   "cell_type": "code",
   "execution_count": 50,
   "metadata": {},
   "outputs": [
    {
     "name": "stdout",
     "output_type": "stream",
     "text": [
      "Found 380 fixtures. Gathering data...\n",
      "Found 380 fixtures. Gathering data...\n",
      "Found 380 fixtures. Gathering data...\n"
     ]
    }
   ],
   "source": [
    "match_data_2021 = get_season_data('2021')\n",
    "match_data_2022 = get_season_data('2022')\n",
    "match_data_2023 = get_season_data('2023')"
   ]
  },
  {
   "cell_type": "code",
   "execution_count": 51,
   "metadata": {},
   "outputs": [
    {
     "name": "stdout",
     "output_type": "stream",
     "text": [
      "Data saved to 'csv_output_file_2021'.\n"
     ]
    }
   ],
   "source": [
    "# Convert to DataFrame\n",
    "df_21 = pd.DataFrame(match_data_2021)\n",
    "\n",
    "# Fill missing columns if any stats were missing in some matches\n",
    "for stat in desired_stats:\n",
    "    for prefix in ['Home', 'Away']:\n",
    "        col_name = f'{prefix} {stat}'\n",
    "        if col_name not in df_21.columns:\n",
    "            df_21[col_name] = 0\n",
    "\n",
    "# Save to CSV\n",
    "df_21.to_csv(csv_output_file_2021, index=False)\n",
    "print(\"Data saved to 'csv_output_file_2021'.\")"
   ]
  },
  {
   "cell_type": "code",
   "execution_count": 52,
   "metadata": {},
   "outputs": [
    {
     "name": "stdout",
     "output_type": "stream",
     "text": [
      "Data saved to 'csv_output_file_2022'.\n"
     ]
    }
   ],
   "source": [
    "# Convert to DataFrame\n",
    "df_22 = pd.DataFrame(match_data_2022)\n",
    "\n",
    "# Fill missing columns if any stats were missing in some matches\n",
    "for stat in desired_stats:\n",
    "    for prefix in ['Home', 'Away']:\n",
    "        col_name = f'{prefix} {stat}'\n",
    "        if col_name not in df_22.columns:\n",
    "            df_22[col_name] = 0\n",
    "\n",
    "# Save to CSV\n",
    "df_22.to_csv(csv_output_file_2022, index=False)\n",
    "print(\"Data saved to 'csv_output_file_2022'.\")"
   ]
  },
  {
   "cell_type": "code",
   "execution_count": 53,
   "metadata": {},
   "outputs": [
    {
     "name": "stdout",
     "output_type": "stream",
     "text": [
      "Data saved to 'csv_output_file_2023'.\n"
     ]
    }
   ],
   "source": [
    "# Convert to DataFrame\n",
    "df_23 = pd.DataFrame(match_data_2023)\n",
    "\n",
    "# Fill missing columns if any stats were missing in some matches\n",
    "for stat in desired_stats:\n",
    "    for prefix in ['Home', 'Away']:\n",
    "        col_name = f'{prefix} {stat}'\n",
    "        if col_name not in df_23.columns:\n",
    "            df_23[col_name] = 0\n",
    "\n",
    "# Save to CSV\n",
    "df_23.to_csv(csv_output_file_2023, index=False)\n",
    "print(\"Data saved to 'csv_output_file_2023'.\")"
   ]
  },
  {
   "cell_type": "code",
   "execution_count": 54,
   "metadata": {},
   "outputs": [
    {
     "name": "stdout",
     "output_type": "stream",
     "text": [
      "{'Fixture ID': 1035037, 'Date': '2023-08-11T19:00:00+00:00', 'Referee': 'C. Pawson', 'Venue': 'Turf Moor', 'City': 'Burnley', 'Home Team': 'Burnley', 'Away Team': 'Manchester City', 'Home Team Goals': 0, 'Away Team Goals': 3, 'Result': 'Away Win', 'Home Shots on Goal': 1, 'Home Shots off Goal': 3, 'Home Total Shots': 6, 'Home Blocked Shots': 2, 'Home Shots insidebox': 5, 'Home Shots outsidebox': 1, 'Home Fouls': 11, 'Home Corner Kicks': 6, 'Home Offsides': 0, 'Home Ball Possession': '34%', 'Home Yellow Cards': 0, 'Home Red Cards': 1, 'Home Goalkeeper Saves': 5, 'Home Total passes': 365, 'Home Passes accurate': 290, 'Home Passes %': '79%', 'Home expected_goals': '0.33', 'Away Shots on Goal': 8, 'Away Shots off Goal': 4, 'Away Total Shots': 17, 'Away Blocked Shots': 5, 'Away Shots insidebox': 14, 'Away Shots outsidebox': 3, 'Away Fouls': 8, 'Away Corner Kicks': 5, 'Away Offsides': 1, 'Away Ball Possession': '66%', 'Away Yellow Cards': 0, 'Away Red Cards': 0, 'Away Goalkeeper Saves': 1, 'Away Total passes': 706, 'Away Passes accurate': 634, 'Away Passes %': '90%', 'Away expected_goals': '2.08'}\n"
     ]
    }
   ],
   "source": [
    "print(match_data_2023[0])"
   ]
  },
  {
   "cell_type": "markdown",
   "metadata": {},
   "source": [
    "## Get stats from seasons prior 2021"
   ]
  },
  {
   "cell_type": "code",
   "execution_count": null,
   "metadata": {},
   "outputs": [],
   "source": [
    "csv_output_file_2014 = \"../data/API-Football/API-Football-Data-2014:15.csv\"\n",
    "csv_output_file_2015 = \"../data/API-Football/API-Football-Data-2015:16.csv\"\n",
    "csv_output_file_2016 = \"../data/API-Football/API-Football-Data-2016:17.csv\"\n",
    "csv_output_file_2017 = \"../data/API-Football/API-Football-Data-2017:18.csv\"\n",
    "csv_output_file_2018 = \"../data/API-Football/API-Football-Data-2018:19.csv\"\n",
    "csv_output_file_2019 = \"../data/API-Football/API-Football-Data-2019:20.csv\"\n",
    "csv_output_file_2020 = \"../data/API-Football/API-Football-Data-2020:21.csv\"\n",
    "premier_league_id = premier_league_id\n",
    "\n",
    "desired_stats = [\n",
    "    \"Shots on Goal\", \"Shots off Goal\", \"Total Shots\", \"Blocked Shots\",\n",
    "    \"Shots insidebox\", \"Shots outsidebox\", \"Fouls\", \"Corner Kicks\", \"Offsides\",\n",
    "    \"Ball Possession\", \"Yellow Cards\", \"Red Cards\", \"Goalkeeper Saves\",\n",
    "    \"Total passes\", \"Passes accurate\", \"Passes %\", \"expected_goals\"\n",
    "]"
   ]
  },
  {
   "cell_type": "code",
   "execution_count": 11,
   "metadata": {},
   "outputs": [
    {
     "name": "stdout",
     "output_type": "stream",
     "text": [
      "Found 380 fixtures. Gathering data...\n",
      "Found 380 fixtures. Gathering data...\n",
      "Found 380 fixtures. Gathering data...\n",
      "Found 380 fixtures. Gathering data...\n",
      "Found 380 fixtures. Gathering data...\n",
      "Found 380 fixtures. Gathering data...\n",
      "Found 380 fixtures. Gathering data...\n"
     ]
    }
   ],
   "source": [
    "match_data_2014 = get_season_data('2014')\n",
    "match_data_2015 = get_season_data('2015')\n",
    "match_data_2016 = get_season_data('2016')\n",
    "match_data_2017 = get_season_data('2017')\n",
    "match_data_2018 = get_season_data('2018')\n",
    "match_data_2019 = get_season_data('2019')\n",
    "match_data_2020 = get_season_data('2020')"
   ]
  },
  {
   "cell_type": "code",
   "execution_count": 12,
   "metadata": {},
   "outputs": [],
   "source": [
    "def process_season_data(match_data, csv_output_file):\n",
    "    df = pd.DataFrame(match_data)\n",
    "\n",
    "    for stat in desired_stats:\n",
    "        for prefix in ['Home', 'Away']:\n",
    "            col_name = f'{prefix} {stat}'\n",
    "            if col_name not in df.columns:\n",
    "                df[col_name] = 0\n",
    "    \n",
    "    df.to_csv(csv_output_file, index=False)"
   ]
  },
  {
   "cell_type": "code",
   "execution_count": 13,
   "metadata": {},
   "outputs": [],
   "source": [
    "process_season_data(match_data_2014, csv_output_file_2014)\n",
    "process_season_data(match_data_2015, csv_output_file_2015)\n",
    "process_season_data(match_data_2016, csv_output_file_2016)\n",
    "process_season_data(match_data_2017, csv_output_file_2017)\n",
    "process_season_data(match_data_2018, csv_output_file_2018)\n",
    "process_season_data(match_data_2019, csv_output_file_2019)\n",
    "process_season_data(match_data_2020, csv_output_file_2020)"
   ]
  },
  {
   "cell_type": "code",
   "execution_count": 14,
   "metadata": {},
   "outputs": [],
   "source": [
    "csv_output_file_2010 = \"../data/API-Football/API-Football-Data-2010:11.csv\"\n",
    "csv_output_file_2011 = \"../data/API-Football/API-Football-Data-2011:12.csv\"\n",
    "csv_output_file_2012 = \"../data/API-Football/API-Football-Data-2012:13.csv\"\n",
    "csv_output_file_2013 = \"../data/API-Football/API-Football-Data-2013:14.csv\""
   ]
  },
  {
   "cell_type": "code",
   "execution_count": 15,
   "metadata": {},
   "outputs": [
    {
     "name": "stdout",
     "output_type": "stream",
     "text": [
      "Found 370 fixtures. Gathering data...\n",
      "Found 380 fixtures. Gathering data...\n",
      "Found 380 fixtures. Gathering data...\n",
      "Found 380 fixtures. Gathering data...\n"
     ]
    }
   ],
   "source": [
    "match_data_2010 = get_season_data('2010')\n",
    "match_data_2011 = get_season_data('2011')\n",
    "match_data_2012 = get_season_data('2012')\n",
    "match_data_2013 = get_season_data('2013')"
   ]
  },
  {
   "cell_type": "code",
   "execution_count": 16,
   "metadata": {},
   "outputs": [],
   "source": [
    "process_season_data(match_data_2010, csv_output_file_2010)\n",
    "process_season_data(match_data_2011, csv_output_file_2011)\n",
    "process_season_data(match_data_2012, csv_output_file_2012)\n",
    "process_season_data(match_data_2013, csv_output_file_2013)"
   ]
  },
  {
   "cell_type": "code",
   "execution_count": 19,
   "metadata": {},
   "outputs": [
    {
     "name": "stdout",
     "output_type": "stream",
     "text": [
      "Found 380 fixtures. Gathering data...\n"
     ]
    }
   ],
   "source": [
    "match_data_2024 = get_season_data('2024')\n",
    "csv_output_file_2024 = \"../data/API-Football/API-Football-Data-2024:25.csv\"\n",
    "process_season_data(match_data_2024, csv_output_file_2024)"
   ]
  }
 ],
 "metadata": {
  "kernelspec": {
   "display_name": "FYP_ML",
   "language": "python",
   "name": "python3"
  },
  "language_info": {
   "codemirror_mode": {
    "name": "ipython",
    "version": 3
   },
   "file_extension": ".py",
   "mimetype": "text/x-python",
   "name": "python",
   "nbconvert_exporter": "python",
   "pygments_lexer": "ipython3",
   "version": "3.9.21"
  }
 },
 "nbformat": 4,
 "nbformat_minor": 2
}
