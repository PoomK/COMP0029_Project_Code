{
 "cells": [
  {
   "cell_type": "markdown",
   "metadata": {},
   "source": [
    "# SVM Model"
   ]
  },
  {
   "cell_type": "code",
   "execution_count": 2,
   "metadata": {},
   "outputs": [],
   "source": [
    "import pandas as pd\n",
    "import pickle\n",
    "from sklearn.svm import SVC\n",
    "from sklearn.preprocessing import StandardScaler\n",
    "from sklearn.model_selection import train_test_split\n",
    "from sklearn.metrics import accuracy_score, classification_report, confusion_matrix\n",
    "from sklearn.model_selection import GridSearchCV\n",
    "import os\n",
    "import numpy as np\n",
    "import matplotlib.pyplot as plt"
   ]
  },
  {
   "cell_type": "code",
   "execution_count": 3,
   "metadata": {},
   "outputs": [],
   "source": [
    "def format_best_svm_model(best_params):\n",
    "    fixed_args = {\n",
    "        \"probability\": True,\n",
    "        \"class_weight\": \"'balanced'\",\n",
    "        \"random_state\": 42\n",
    "    }\n",
    "\n",
    "    print(\"model_svm = SVC(\")\n",
    "\n",
    "    # Fixed arguments\n",
    "    for k, v in fixed_args.items():\n",
    "        print(f\"    {k}={v},\")\n",
    "\n",
    "    # GridSearch-tuned parameters\n",
    "    for k, v in best_params.items():\n",
    "        if isinstance(v, str):\n",
    "            print(f\"    {k}='{v}',\")\n",
    "        else:\n",
    "            print(f\"    {k}={v},\")\n",
    "            \n",
    "    print(\")\")"
   ]
  },
  {
   "cell_type": "markdown",
   "metadata": {},
   "source": [
    "## Load Data"
   ]
  },
  {
   "cell_type": "code",
   "execution_count": 10,
   "metadata": {},
   "outputs": [],
   "source": [
    "X_train = pd.read_csv('../Data/FINAL_SPLIT/Football-Training-2010_2025_ONEHOT_train.csv')\n",
    "X_test  = pd.read_csv('../Data/FINAL_SPLIT/Football-Training-2010_2025_ONEHOT_test.csv')\n",
    "\n",
    "y_train = pd.read_csv('../Data/FINAL_SPLIT/PL_dataset_2010-2025_train.csv')['MatchResult']\n",
    "y_test  = pd.read_csv('../Data/FINAL_SPLIT/PL_dataset_2010-2025_test.csv')['MatchResult']"
   ]
  },
  {
   "cell_type": "code",
   "execution_count": 11,
   "metadata": {},
   "outputs": [
    {
     "name": "stdout",
     "output_type": "stream",
     "text": [
      "(2687, 110) (933, 110)\n"
     ]
    }
   ],
   "source": [
    "X_train = X_train.dropna()\n",
    "y_train = y_train.loc[X_train.index]\n",
    "\n",
    "X_test = X_test.dropna()\n",
    "y_test = y_test.loc[X_test.index]\n",
    "\n",
    "print(X_train.shape, X_test.shape)"
   ]
  },
  {
   "cell_type": "code",
   "execution_count": 12,
   "metadata": {},
   "outputs": [],
   "source": [
    "scaler = StandardScaler()\n",
    "X_train_scaled = scaler.fit_transform(X_train)\n",
    "X_test_scaled = scaler.transform(X_test)"
   ]
  },
  {
   "cell_type": "markdown",
   "metadata": {},
   "source": [
    "## Train Model"
   ]
  },
  {
   "cell_type": "code",
   "execution_count": 13,
   "metadata": {},
   "outputs": [],
   "source": [
    "# model_svm = SVC(\n",
    "#     kernel=\"rbf\",\n",
    "#     C=0.1,\n",
    "#     gamma=\"scale\",\n",
    "#     class_weight=\"balanced\",\n",
    "#     probability=True,\n",
    "#     random_state=42\n",
    "# )\n",
    "\n",
    "model_svm = SVC(\n",
    "    probability=True,\n",
    "    class_weight='balanced',\n",
    "    random_state=42,\n",
    "    C=0.1,\n",
    "    gamma='scale',\n",
    "    kernel='linear',\n",
    ")"
   ]
  },
  {
   "cell_type": "code",
   "execution_count": 14,
   "metadata": {},
   "outputs": [],
   "source": [
    "_ = model_svm.fit(X_train_scaled, y_train)"
   ]
  },
  {
   "cell_type": "code",
   "execution_count": 15,
   "metadata": {},
   "outputs": [],
   "source": [
    "model_svm.column_list = X_train.columns.tolist()"
   ]
  },
  {
   "cell_type": "code",
   "execution_count": 13,
   "metadata": {},
   "outputs": [],
   "source": [
    "with open(\"saved_models_result/svm_model.pkl\", \"wb\") as f:\n",
    "    pickle.dump(model_svm, f)"
   ]
  },
  {
   "cell_type": "markdown",
   "metadata": {},
   "source": [
    "## Test Model"
   ]
  },
  {
   "cell_type": "code",
   "execution_count": 16,
   "metadata": {},
   "outputs": [],
   "source": [
    "y_pred = model_svm.predict(X_test_scaled)"
   ]
  },
  {
   "cell_type": "markdown",
   "metadata": {},
   "source": [
    "## Using Gridsearch"
   ]
  },
  {
   "cell_type": "code",
   "execution_count": 12,
   "metadata": {},
   "outputs": [
    {
     "name": "stdout",
     "output_type": "stream",
     "text": [
      "Fitting 5 folds for each of 24 candidates, totalling 120 fits\n",
      "[CV] END .................C=0.01, gamma=scale, kernel=linear; total time=   1.7s\n",
      "[CV] END .................C=0.01, gamma=scale, kernel=linear; total time=   1.7s\n",
      "[CV] END .................C=0.01, gamma=scale, kernel=linear; total time=   1.8s\n",
      "[CV] END .................C=0.01, gamma=scale, kernel=linear; total time=   1.8s\n",
      "[CV] END .................C=0.01, gamma=scale, kernel=linear; total time=   1.8s\n",
      "[CV] END ....................C=0.01, gamma=scale, kernel=rbf; total time=   3.3s\n",
      "[CV] END ....................C=0.01, gamma=scale, kernel=rbf; total time=   3.4s\n",
      "[CV] END ....................C=0.01, gamma=scale, kernel=rbf; total time=   3.5s\n",
      "[CV] END ....................C=0.01, gamma=scale, kernel=rbf; total time=   3.6s\n",
      "[CV] END ....................C=0.01, gamma=0.001, kernel=rbf; total time=   3.4s\n",
      "[CV] END ....................C=0.01, gamma=0.001, kernel=rbf; total time=   3.4s\n",
      "[CV] END .................C=0.01, gamma=0.001, kernel=linear; total time=   1.7s\n",
      "[CV] END ....................C=0.01, gamma=scale, kernel=rbf; total time=   3.8s\n",
      "[CV] END .................C=0.01, gamma=0.001, kernel=linear; total time=   1.8s\n",
      "[CV] END .................C=0.01, gamma=0.001, kernel=linear; total time=   1.9s\n",
      "[CV] END .................C=0.01, gamma=0.001, kernel=linear; total time=   1.9s\n",
      "[CV] END .................C=0.01, gamma=0.001, kernel=linear; total time=   2.0s\n",
      "[CV] END ....................C=0.01, gamma=0.001, kernel=rbf; total time=   3.6s\n",
      "[CV] END ....................C=0.01, gamma=0.001, kernel=rbf; total time=   3.6s\n",
      "[CV] END ....................C=0.01, gamma=0.001, kernel=rbf; total time=   3.7s\n",
      "[CV] END ..................C=0.01, gamma=0.01, kernel=linear; total time=   2.0s\n",
      "[CV] END ..................C=0.01, gamma=0.01, kernel=linear; total time=   1.8s\n",
      "[CV] END ..................C=0.01, gamma=0.01, kernel=linear; total time=   1.7s\n",
      "[CV] END .....................C=0.01, gamma=0.01, kernel=rbf; total time=   3.5s\n",
      "[CV] END .....................C=0.01, gamma=0.01, kernel=rbf; total time=   3.5s\n",
      "[CV] END ..................C=0.01, gamma=0.01, kernel=linear; total time=   1.8s\n",
      "[CV] END .....................C=0.01, gamma=0.01, kernel=rbf; total time=   3.7s\n",
      "[CV] END ..................C=0.01, gamma=0.01, kernel=linear; total time=   1.9s\n",
      "[CV] END .....................C=0.01, gamma=0.01, kernel=rbf; total time=   3.8s\n",
      "[CV] END .....................C=0.01, gamma=0.01, kernel=rbf; total time=   3.8s\n",
      "[CV] END ...................C=0.01, gamma=0.1, kernel=linear; total time=   1.8s\n",
      "[CV] END ...................C=0.01, gamma=0.1, kernel=linear; total time=   1.8s\n",
      "[CV] END ...................C=0.01, gamma=0.1, kernel=linear; total time=   1.9s\n",
      "[CV] END ......................C=0.01, gamma=0.1, kernel=rbf; total time=   3.5s\n",
      "[CV] END ......................C=0.01, gamma=0.1, kernel=rbf; total time=   3.5s\n",
      "[CV] END ...................C=0.01, gamma=0.1, kernel=linear; total time=   1.8s\n",
      "[CV] END ...................C=0.01, gamma=0.1, kernel=linear; total time=   1.8s\n",
      "[CV] END ......................C=0.01, gamma=0.1, kernel=rbf; total time=   3.7s\n",
      "[CV] END ......................C=0.01, gamma=0.1, kernel=rbf; total time=   3.6s\n",
      "[CV] END ......................C=0.01, gamma=0.1, kernel=rbf; total time=   3.7s\n",
      "[CV] END .....................C=0.1, gamma=scale, kernel=rbf; total time=   3.5s\n",
      "[CV] END ..................C=0.1, gamma=scale, kernel=linear; total time=   2.0s\n",
      "[CV] END ..................C=0.1, gamma=scale, kernel=linear; total time=   2.0s\n",
      "[CV] END ..................C=0.1, gamma=scale, kernel=linear; total time=   2.1s\n",
      "[CV] END ..................C=0.1, gamma=scale, kernel=linear; total time=   1.9s\n",
      "[CV] END .....................C=0.1, gamma=scale, kernel=rbf; total time=   3.9s\n",
      "[CV] END ..................C=0.1, gamma=scale, kernel=linear; total time=   2.3s\n",
      "[CV] END .....................C=0.1, gamma=scale, kernel=rbf; total time=   3.5s\n",
      "[CV] END .....................C=0.1, gamma=scale, kernel=rbf; total time=   3.7s\n",
      "[CV] END .....................C=0.1, gamma=scale, kernel=rbf; total time=   3.9s\n",
      "[CV] END ..................C=0.1, gamma=0.001, kernel=linear; total time=   1.8s\n",
      "[CV] END ..................C=0.1, gamma=0.001, kernel=linear; total time=   2.3s\n",
      "[CV] END ..................C=0.1, gamma=0.001, kernel=linear; total time=   2.4s\n",
      "[CV] END .....................C=0.1, gamma=0.001, kernel=rbf; total time=   3.0s\n",
      "[CV] END ..................C=0.1, gamma=0.001, kernel=linear; total time=   2.3s\n",
      "[CV] END ..................C=0.1, gamma=0.001, kernel=linear; total time=   1.7s\n",
      "[CV] END .....................C=0.1, gamma=0.001, kernel=rbf; total time=   4.1s\n",
      "[CV] END .....................C=0.1, gamma=0.001, kernel=rbf; total time=   4.4s\n",
      "[CV] END .....................C=0.1, gamma=0.001, kernel=rbf; total time=   4.0s\n",
      "[CV] END .....................C=0.1, gamma=0.001, kernel=rbf; total time=   4.3s\n",
      "[CV] END ...................C=0.1, gamma=0.01, kernel=linear; total time=   1.7s\n",
      "[CV] END ......................C=0.1, gamma=0.01, kernel=rbf; total time=   2.9s\n",
      "[CV] END ...................C=0.1, gamma=0.01, kernel=linear; total time=   1.7s\n",
      "[CV] END ...................C=0.1, gamma=0.01, kernel=linear; total time=   2.3s\n",
      "[CV] END ......................C=0.1, gamma=0.01, kernel=rbf; total time=   4.1s\n",
      "[CV] END ......................C=0.1, gamma=0.01, kernel=rbf; total time=   4.0s\n",
      "[CV] END ...................C=0.1, gamma=0.01, kernel=linear; total time=   2.4s\n",
      "[CV] END ...................C=0.1, gamma=0.01, kernel=linear; total time=   2.4s\n",
      "[CV] END ......................C=0.1, gamma=0.01, kernel=rbf; total time=   4.1s\n",
      "[CV] END ......................C=0.1, gamma=0.01, kernel=rbf; total time=   3.9s\n",
      "[CV] END .......................C=0.1, gamma=0.1, kernel=rbf; total time=   2.9s\n",
      "[CV] END .......................C=0.1, gamma=0.1, kernel=rbf; total time=   2.9s\n",
      "[CV] END ....................C=0.1, gamma=0.1, kernel=linear; total time=   2.3s\n",
      "[CV] END .......................C=0.1, gamma=0.1, kernel=rbf; total time=   3.0s\n",
      "[CV] END ....................C=0.1, gamma=0.1, kernel=linear; total time=   2.3s\n",
      "[CV] END ....................C=0.1, gamma=0.1, kernel=linear; total time=   2.3s\n",
      "[CV] END .......................C=0.1, gamma=0.1, kernel=rbf; total time=   4.2s\n",
      "[CV] END ....................C=0.1, gamma=0.1, kernel=linear; total time=   2.2s\n",
      "[CV] END .......................C=0.1, gamma=0.1, kernel=rbf; total time=   4.3s\n",
      "[CV] END ....................C=0.1, gamma=0.1, kernel=linear; total time=   2.2s\n",
      "[CV] END .................C=0.05, gamma=scale, kernel=linear; total time=   1.5s\n",
      "[CV] END .................C=0.05, gamma=scale, kernel=linear; total time=   2.0s\n",
      "[CV] END .................C=0.05, gamma=scale, kernel=linear; total time=   2.0s\n",
      "[CV] END .................C=0.05, gamma=scale, kernel=linear; total time=   2.0s\n",
      "[CV] END .................C=0.05, gamma=scale, kernel=linear; total time=   1.9s\n",
      "[CV] END ....................C=0.05, gamma=scale, kernel=rbf; total time=   2.9s\n",
      "[CV] END ....................C=0.05, gamma=scale, kernel=rbf; total time=   2.9s\n",
      "[CV] END ....................C=0.05, gamma=scale, kernel=rbf; total time=   4.2s\n",
      "[CV] END ....................C=0.05, gamma=scale, kernel=rbf; total time=   4.0s\n",
      "[CV] END ....................C=0.05, gamma=scale, kernel=rbf; total time=   3.9s\n",
      "[CV] END .................C=0.05, gamma=0.001, kernel=linear; total time=   1.4s\n",
      "[CV] END .................C=0.05, gamma=0.001, kernel=linear; total time=   1.5s\n",
      "[CV] END .................C=0.05, gamma=0.001, kernel=linear; total time=   2.0s\n",
      "[CV] END ....................C=0.05, gamma=0.001, kernel=rbf; total time=   2.9s\n",
      "[CV] END .................C=0.05, gamma=0.001, kernel=linear; total time=   1.9s\n",
      "[CV] END ....................C=0.05, gamma=0.001, kernel=rbf; total time=   3.8s\n",
      "[CV] END ....................C=0.05, gamma=0.001, kernel=rbf; total time=   4.1s\n",
      "[CV] END .................C=0.05, gamma=0.001, kernel=linear; total time=   2.1s\n",
      "[CV] END ..................C=0.05, gamma=0.01, kernel=linear; total time=   1.5s\n",
      "[CV] END ....................C=0.05, gamma=0.001, kernel=rbf; total time=   3.8s\n",
      "[CV] END ....................C=0.05, gamma=0.001, kernel=rbf; total time=   4.0s\n",
      "[CV] END ..................C=0.05, gamma=0.01, kernel=linear; total time=   2.0s\n",
      "[CV] END ..................C=0.05, gamma=0.01, kernel=linear; total time=   2.0s\n",
      "[CV] END ..................C=0.05, gamma=0.01, kernel=linear; total time=   1.9s\n",
      "[CV] END .....................C=0.05, gamma=0.01, kernel=rbf; total time=   3.9s\n",
      "[CV] END .....................C=0.05, gamma=0.01, kernel=rbf; total time=   2.8s\n",
      "[CV] END .....................C=0.05, gamma=0.01, kernel=rbf; total time=   2.8s\n",
      "[CV] END ..................C=0.05, gamma=0.01, kernel=linear; total time=   2.2s\n",
      "[CV] END .....................C=0.05, gamma=0.01, kernel=rbf; total time=   3.8s\n",
      "[CV] END .....................C=0.05, gamma=0.01, kernel=rbf; total time=   3.7s\n",
      "[CV] END ...................C=0.05, gamma=0.1, kernel=linear; total time=   1.5s\n",
      "[CV] END ...................C=0.05, gamma=0.1, kernel=linear; total time=   1.5s\n",
      "[CV] END ...................C=0.05, gamma=0.1, kernel=linear; total time=   1.8s\n",
      "[CV] END ...................C=0.05, gamma=0.1, kernel=linear; total time=   1.8s\n",
      "[CV] END ......................C=0.05, gamma=0.1, kernel=rbf; total time=   2.9s\n",
      "[CV] END ...................C=0.05, gamma=0.1, kernel=linear; total time=   1.7s\n",
      "[CV] END ......................C=0.05, gamma=0.1, kernel=rbf; total time=   3.3s\n",
      "[CV] END ......................C=0.05, gamma=0.1, kernel=rbf; total time=   3.2s\n",
      "[CV] END ......................C=0.05, gamma=0.1, kernel=rbf; total time=   3.1s\n",
      "[CV] END ......................C=0.05, gamma=0.1, kernel=rbf; total time=   3.2s\n"
     ]
    }
   ],
   "source": [
    "param_grid = {\n",
    "    \"C\": [0.01, 0.1, 0.05],\n",
    "    \"gamma\": [\"scale\", 0.001, 0.01, 0.1],\n",
    "    \"kernel\": [\"rbf\", \"linear\"]\n",
    "}\n",
    "\n",
    "grid_search = GridSearchCV(\n",
    "    estimator=SVC(probability=True, class_weight=\"balanced\", random_state=42),\n",
    "    param_grid=param_grid,\n",
    "    scoring=\"accuracy\",\n",
    "    cv=5,\n",
    "    verbose=2,\n",
    "    n_jobs=-1\n",
    ")\n",
    "\n",
    "grid_search.fit(X_train_scaled, y_train)\n",
    "model_svm_best = grid_search.best_estimator_"
   ]
  },
  {
   "cell_type": "code",
   "execution_count": 13,
   "metadata": {},
   "outputs": [
    {
     "name": "stdout",
     "output_type": "stream",
     "text": [
      "Best Parameters: {'C': 0.05, 'gamma': 'scale', 'kernel': 'linear'}\n",
      "model_svm = SVC(\n",
      "    probability=True,\n",
      "    class_weight='balanced',\n",
      "    random_state=42,\n",
      "    C=0.05,\n",
      "    gamma='scale',\n",
      "    kernel='linear',\n",
      ")\n"
     ]
    }
   ],
   "source": [
    "best_model = grid_search.best_estimator_\n",
    "print(\"Best Parameters:\", grid_search.best_params_)\n",
    "format_best_svm_model(grid_search.best_params_)"
   ]
  },
  {
   "cell_type": "code",
   "execution_count": 14,
   "metadata": {},
   "outputs": [
    {
     "name": "stdout",
     "output_type": "stream",
     "text": [
      "Accuracy:  0.6028368794326241\n",
      "Classification Report:\n",
      "               precision    recall  f1-score   support\n",
      "\n",
      "           0       0.74      0.67      0.70       316\n",
      "           1       0.34      0.44      0.39       163\n",
      "           2       0.68      0.63      0.65       226\n",
      "\n",
      "    accuracy                           0.60       705\n",
      "   macro avg       0.59      0.58      0.58       705\n",
      "weighted avg       0.63      0.60      0.61       705\n",
      "\n",
      "Confusion Matrix:\n",
      " [[211  84  21]\n",
      " [ 46  72  45]\n",
      " [ 29  55 142]]\n",
      "\n",
      "Training Accuracy: 0.6395\n",
      "Testing Accuracy:  0.6028\n"
     ]
    }
   ],
   "source": [
    "y_pred_best = best_model.predict(X_test_scaled)\n",
    "print(\"Accuracy: \", accuracy_score(y_test, y_pred_best))\n",
    "print(\"Classification Report:\\n\", classification_report(y_test, y_pred_best))\n",
    "print(\"Confusion Matrix:\\n\", confusion_matrix(y_test, y_pred_best))\n",
    "\n",
    "# Check for overfitting\n",
    "train_acc = best_model.score(X_train_scaled, y_train)\n",
    "test_acc = best_model.score(X_test_scaled, y_test)\n",
    "\n",
    "print(f\"\\nTraining Accuracy: {train_acc:.4f}\")\n",
    "print(f\"Testing Accuracy:  {test_acc:.4f}\")"
   ]
  }
 ],
 "metadata": {
  "kernelspec": {
   "display_name": "FYP_ML",
   "language": "python",
   "name": "python3"
  },
  "language_info": {
   "codemirror_mode": {
    "name": "ipython",
    "version": 3
   },
   "file_extension": ".py",
   "mimetype": "text/x-python",
   "name": "python",
   "nbconvert_exporter": "python",
   "pygments_lexer": "ipython3",
   "version": "3.9.21"
  }
 },
 "nbformat": 4,
 "nbformat_minor": 2
}
