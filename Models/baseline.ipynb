{
 "cells": [
  {
   "cell_type": "code",
   "execution_count": 13,
   "metadata": {},
   "outputs": [
    {
     "name": "stdout",
     "output_type": "stream",
     "text": [
      "Home‑win baseline accuracy: 0.452\n",
      "Random‑guess baseline accuracy: 0.343\n"
     ]
    }
   ],
   "source": [
    "import pandas as pd\n",
    "import numpy as np\n",
    "from sklearn.metrics import accuracy_score, classification_report\n",
    "\n",
    "# LOAD Y TEST\n",
    "y_test = pd.read_csv('../Data/FINAL_SPLIT/PL_dataset_2010-2025_test.csv')['MatchResult']\\\n",
    "            .dropna()\\\n",
    "            .reset_index(drop=True)\n",
    "\n",
    "# HOME WIN BASELINE\n",
    "home_label = 0\n",
    "y_pred_home = [home_label] * len(y_test)\n",
    "acc_home = accuracy_score(y_test, y_pred_home)\n",
    "\n",
    "print(f\"Home‑win baseline accuracy: {acc_home:.3f}\")\n",
    "\n",
    "# RANDOM GUESS BASELINE\n",
    "classes = y_test.unique()\n",
    "rng = np.random.default_rng(42)\n",
    "y_pred_rand = rng.choice(classes, size=len(y_test))\n",
    "acc_rand = accuracy_score(y_test, y_pred_rand)\n",
    "\n",
    "print(f\"Random‑guess baseline accuracy: {acc_rand:.3f}\")\n"
   ]
  }
 ],
 "metadata": {
  "kernelspec": {
   "display_name": "FYP_ML",
   "language": "python",
   "name": "python3"
  },
  "language_info": {
   "codemirror_mode": {
    "name": "ipython",
    "version": 3
   },
   "file_extension": ".py",
   "mimetype": "text/x-python",
   "name": "python",
   "nbconvert_exporter": "python",
   "pygments_lexer": "ipython3",
   "version": "3.9.21"
  }
 },
 "nbformat": 4,
 "nbformat_minor": 2
}
