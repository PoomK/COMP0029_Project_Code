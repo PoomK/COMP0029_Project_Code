{
 "cells": [
  {
   "cell_type": "code",
   "execution_count": 22,
   "metadata": {},
   "outputs": [],
   "source": [
    "import os\n",
    "import pandas as pd\n",
    "from sklearn.preprocessing import LabelEncoder, OneHotEncoder\n",
    "import joblib\n",
    "import numpy as np\n",
    "import pickle"
   ]
  },
  {
   "cell_type": "markdown",
   "metadata": {},
   "source": [
    "# Form Calculation"
   ]
  },
  {
   "cell_type": "code",
   "execution_count": 23,
   "metadata": {},
   "outputs": [],
   "source": [
    "csv_file_recent = \"../data/PL/2024:25.csv\"\n",
    "\n",
    "df = pd.read_csv(csv_file_recent)"
   ]
  },
  {
   "cell_type": "markdown",
   "metadata": {},
   "source": [
    "### Function with Team Input"
   ]
  },
  {
   "cell_type": "code",
   "execution_count": 24,
   "metadata": {},
   "outputs": [],
   "source": [
    "# Reverted function to calculate recent form for a given team\n",
    "def get_recent_form(team_name, df, n=5, points_weight=1.0, goal_diff_weight=0.5):\n",
    "    \"\"\"\n",
    "    Calculates the recent form of a team over the last n matches.\n",
    "\n",
    "    Parameters:\n",
    "    - team_name (str): Name of the team.\n",
    "    - df (DataFrame): The main match dataset.\n",
    "    - n (int): Number of previous matches to consider.\n",
    "\n",
    "    Returns:\n",
    "    - dict: Recent form metrics (points, goals scored, goals conceded, wins, draws, losses).\n",
    "    \"\"\"\n",
    "    # Filter matches involving the team\n",
    "    team_matches = df[(df['HomeTeam'] == team_name) | (df['AwayTeam'] == team_name)]\n",
    "    team_matches = team_matches.tail(n)  # Since the most recent matches are at the bottom\n",
    "    \n",
    "    # Initialize counters\n",
    "    points = 0\n",
    "    goals_scored = 0\n",
    "    goals_conceded = 0\n",
    "    wins = 0\n",
    "    draws = 0\n",
    "    losses = 0\n",
    "\n",
    "    # Iterate over matches to calculate form\n",
    "    for _, row in team_matches.iterrows():\n",
    "        if row['HomeTeam'] == team_name:\n",
    "            goals_scored += row['FTHG']\n",
    "            goals_conceded += row['FTAG']\n",
    "            result = row['FTR']\n",
    "            if result == 'H':\n",
    "                points += 3\n",
    "                wins += 1\n",
    "            elif result == 'D':\n",
    "                points += 1\n",
    "                draws += 1\n",
    "            else:\n",
    "                losses += 1\n",
    "        else:\n",
    "            goals_scored += row['FTAG']\n",
    "            goals_conceded += row['FTHG']\n",
    "            result = row['FTR']\n",
    "            if result == 'A':\n",
    "                points += 3\n",
    "                wins += 1\n",
    "            elif result == 'D':\n",
    "                points += 1\n",
    "                draws += 1\n",
    "            else:\n",
    "                losses += 1\n",
    "\n",
    "    # Calculate Goal Difference\n",
    "    goal_difference = goals_scored - goals_conceded\n",
    "\n",
    "    # Calculate Form Score\n",
    "    form_score = (points * points_weight) + (goal_difference * goal_diff_weight)\n",
    "\n",
    "    return {\n",
    "        'Team': team_name,\n",
    "        'Matches Considered': len(team_matches),\n",
    "        'Points': points,\n",
    "        'Goals Scored': goals_scored,\n",
    "        'Goals Conceded': goals_conceded,\n",
    "        'Goal Difference': goal_difference,\n",
    "        'Wins': wins,\n",
    "        'Draws': draws,\n",
    "        'Losses': losses,\n",
    "        'Form Score': form_score\n",
    "    }"
   ]
  },
  {
   "cell_type": "code",
   "execution_count": 25,
   "metadata": {},
   "outputs": [
    {
     "data": {
      "text/plain": [
       "{'Team': 'Liverpool',\n",
       " 'Matches Considered': 5,\n",
       " 'Points': 13,\n",
       " 'Goals Scored': 11,\n",
       " 'Goals Conceded': 4,\n",
       " 'Goal Difference': 7,\n",
       " 'Wins': 4,\n",
       " 'Draws': 1,\n",
       " 'Losses': 0,\n",
       " 'Form Score': 16.5}"
      ]
     },
     "execution_count": 25,
     "metadata": {},
     "output_type": "execute_result"
    }
   ],
   "source": [
    "# Example usage for a specific team\n",
    "example_team = \"Liverpool\"\n",
    "recent_form = get_recent_form(example_team, df, n=5)\n",
    "\n",
    "recent_form"
   ]
  },
  {
   "cell_type": "markdown",
   "metadata": {},
   "source": [
    "### Calculate From for all Teams\n",
    "Calculate the form for all the teams based on previous 5 games. Results are then stored in team_recent_form.csv"
   ]
  },
  {
   "cell_type": "code",
   "execution_count": 26,
   "metadata": {},
   "outputs": [
    {
     "name": "stdout",
     "output_type": "stream",
     "text": [
      "['Arsenal', 'Aston Villa', 'Bournemouth', 'Brentford', 'Brighton', 'Chelsea', 'Crystal Palace', 'Everton', 'Fulham', 'Ipswich', 'Leicester', 'Liverpool', 'Man City', 'Man United', 'Newcastle', \"Nott'm Forest\", 'Southampton', 'Tottenham', 'West Ham', 'Wolves']\n"
     ]
    }
   ],
   "source": [
    "# Step 1: Get unique teams from the dataset\n",
    "all_teams = pd.unique(df[['HomeTeam', 'AwayTeam']].values.ravel())\n",
    "all_teams = sorted(all_teams)\n",
    "print(all_teams)"
   ]
  },
  {
   "cell_type": "code",
   "execution_count": 27,
   "metadata": {},
   "outputs": [],
   "source": [
    "form_data = []\n",
    "\n",
    "for team in all_teams:\n",
    "    team_form = get_recent_form(team, df, n=5)\n",
    "    form_data.append(team_form)\n",
    "\n",
    "form_df = pd.DataFrame(form_data)\n",
    "\n",
    "form_file_path = \"team_recent_form.csv\"\n",
    "form_df.to_csv(form_file_path, index=False)"
   ]
  },
  {
   "cell_type": "markdown",
   "metadata": {},
   "source": [
    "### Calculate form for all fixtures in dataset"
   ]
  },
  {
   "cell_type": "code",
   "execution_count": 28,
   "metadata": {},
   "outputs": [],
   "source": [
    "csv_file_2021 = \"../Data/API-Football/API-Football-Data-2021:22.csv\"\n",
    "csv_file_2022 = \"../Data/API-Football/API-Football-Data-2022:23.csv\"\n",
    "csv_file_2023 = \"../Data/API-Football/API-Football-Data-2023:24.csv\""
   ]
  },
  {
   "cell_type": "code",
   "execution_count": null,
   "metadata": {},
   "outputs": [],
   "source": [
    "def preprocess_dates(df):\n",
    "    df = df.copy()\n",
    "    df[\"Date\"] = pd.to_datetime(df[\"Date\"])\n",
    "    df = df.sort_values(\"Date\").reset_index(drop=True)\n",
    "    return df\n",
    "\n",
    "def compute_team_form(df, team_name, current_date, current_match_id, window=5):\n",
    "    # Get past matches involving the team before the current date\n",
    "    past_matches = df[\n",
    "        ((df[\"Home Team\"] == team_name) | (df[\"Away Team\"] == team_name)) &\n",
    "        (df[\"Date\"] < current_date) &\n",
    "        (df[\"Fixture ID\"] != current_match_id)\n",
    "    ].sort_values(\"Date\", ascending=False).head(window)\n",
    "\n",
    "    match_count = len(past_matches)\n",
    "    if match_count == 0:\n",
    "        # First match of the season — no form\n",
    "        return {\n",
    "            \"Points\": 0,\n",
    "            \"Goals Scored\": 0,\n",
    "            \"Goals Conceded\": 0,\n",
    "            \"Wins\": 0,\n",
    "            \"Draws\": 0,\n",
    "            \"Losses\": 0,\n",
    "            \"Form Score\": 0.0\n",
    "        }\n",
    "\n",
    "    # Initialize counters\n",
    "    points = goals_scored = goals_conceded = wins = draws = losses = 0\n",
    "\n",
    "    for _, match in past_matches.iterrows():\n",
    "        is_home = match[\"Home Team\"] == team_name\n",
    "        team_goals = match[\"Home Team Goals\"] if is_home else match[\"Away Team Goals\"]\n",
    "        opponent_goals = match[\"Away Team Goals\"] if is_home else match[\"Home Team Goals\"]\n",
    "\n",
    "        goals_scored += team_goals\n",
    "        goals_conceded += opponent_goals\n",
    "\n",
    "        if team_goals > opponent_goals:\n",
    "            wins += 1\n",
    "            points += 3\n",
    "        elif team_goals == opponent_goals:\n",
    "            draws += 1\n",
    "            points += 1\n",
    "        else:\n",
    "            losses += 1\n",
    "\n",
    "    # Interpolate form to reflect a full 'window' of matches\n",
    "    scale = window / match_count\n",
    "    form_score = (points + (goals_scored - goals_conceded) * 0.5) * scale\n",
    "\n",
    "    return {\n",
    "        \"Points\": points * scale,\n",
    "        \"Goals Scored\": goals_scored * scale,\n",
    "        \"Goals Conceded\": goals_conceded * scale,\n",
    "        \"Wins\": wins * scale,\n",
    "        \"Draws\": draws * scale,\n",
    "        \"Losses\": losses * scale,\n",
    "        \"Form Score\": form_score\n",
    "    }\n",
    "\n",
    "def add_form_features(df, window=7):\n",
    "    df = preprocess_dates(df)\n",
    "    features = []\n",
    "\n",
    "    for idx, row in df.iterrows():\n",
    "        home_team = row[\"Home Team\"]\n",
    "        away_team = row[\"Away Team\"]\n",
    "        match_date = row[\"Date\"]\n",
    "        fixture_id = row[\"Fixture ID\"]\n",
    "\n",
    "        home_form = compute_team_form(df, home_team, match_date, fixture_id, window=window)\n",
    "        away_form = compute_team_form(df, away_team, match_date, fixture_id, window=window)\n",
    "\n",
    "        row_features = {\n",
    "            f\"Home_{k.replace(' ', '_')}\": v for k, v in home_form.items()\n",
    "        }\n",
    "        row_features.update({\n",
    "            f\"Away_{k.replace(' ', '_')}\": v for k, v in away_form.items()\n",
    "        })\n",
    "\n",
    "        features.append(row_features)\n",
    "\n",
    "    form_df = pd.DataFrame(features)\n",
    "    return pd.concat([df.reset_index(drop=True), form_df], axis=1)\n",
    "\n"
   ]
  },
  {
   "cell_type": "code",
   "execution_count": 30,
   "metadata": {},
   "outputs": [],
   "source": [
    "df_2021 = pd.read_csv(csv_file_2021)\n",
    "df_2022 = pd.read_csv(csv_file_2022)\n",
    "df_2023 = pd.read_csv(csv_file_2023)\n",
    "\n",
    "df_2021 = add_form_features(df_2021)\n",
    "df_2022 = add_form_features(df_2022)\n",
    "df_2023 = add_form_features(df_2023)\n",
    "\n",
    "df_2021.to_csv(\"../Data/API-Football_FORM/API-Football-Data-2021:22_FORM.csv\", index=False)\n",
    "df_2022.to_csv(\"../Data/API-Football_FORM/API-Football-Data-2022:23_FORM.csv\", index=False)\n",
    "df_2023.to_csv(\"../Data/API-Football_FORM/API-Football-Data-2023:24_FORM.csv\", index=False)\n"
   ]
  },
  {
   "cell_type": "markdown",
   "metadata": {},
   "source": [
    "## Calculate form current seasons"
   ]
  },
  {
   "cell_type": "code",
   "execution_count": 31,
   "metadata": {},
   "outputs": [],
   "source": [
    "df_2024 = pd.read_csv(\"../Data/PL/2024:25.csv\")"
   ]
  },
  {
   "cell_type": "code",
   "execution_count": 32,
   "metadata": {},
   "outputs": [],
   "source": [
    "def clean_dataset(df):\n",
    "    betting_prefixes = [\n",
    "        \"B365\", \"BF\", \"BS\", \"BW\", \"GB\", \"IW\", \"LB\", \"PS\", \"SO\", \"SB\", \"SJ\", \"SY\", \"VC\",\n",
    "        \"WH\", \"1XB\", \"Max\", \"Avg\", \"BFE\", \"P>\", \"P<\", \"PC\", \"AH\", \"PA\"\n",
    "    ]\n",
    "    columns_to_drop = [col for col in df.columns if any(col.startswith(prefix) for prefix in betting_prefixes)]\n",
    "    df_cleaned = df.drop(columns=columns_to_drop, errors='ignore')\n",
    "\n",
    "    # Parse date\n",
    "    df_cleaned[\"Date\"] = pd.to_datetime(df_cleaned[\"Date\"], dayfirst=True, errors=\"coerce\")\n",
    "\n",
    "    # Add random fixture ID\n",
    "    df_cleaned[\"Fixture ID\"] = np.random.randint(1_000_000, 9_999_999, size=len(df_cleaned))\n",
    "\n",
    "    return df_cleaned\n"
   ]
  },
  {
   "cell_type": "code",
   "execution_count": null,
   "metadata": {},
   "outputs": [],
   "source": [
    "# Step 2: Compute form features\n",
    "def compute_team_form(df, team_name, current_date, current_match_id, window=7, points_weight=1.0, goal_diff_weight=0.5):\n",
    "    past_matches = df[\n",
    "        ((df['HomeTeam'] == team_name) | (df['AwayTeam'] == team_name)) &\n",
    "        (df['Date'] < current_date) &\n",
    "        (df['Fixture ID'] != current_match_id)\n",
    "    ].sort_values(\"Date\", ascending=True)\n",
    "\n",
    "    match_count = len(past_matches)\n",
    "\n",
    "    if match_count < window:\n",
    "        if match_count == 0:\n",
    "            return {\n",
    "                'Points': 0, 'Goals Scored': 0, 'Goals Conceded': 0,\n",
    "                'Wins': 0, 'Draws': 0, 'Losses': 0, 'Form Score': 0.0\n",
    "            }\n",
    "        else:\n",
    "            scale = window / match_count\n",
    "            recent_matches = past_matches.tail(match_count)\n",
    "    else:\n",
    "        scale = 1\n",
    "        recent_matches = past_matches.tail(window)\n",
    "\n",
    "    points = goals_scored = goals_conceded = wins = draws = losses = 0\n",
    "\n",
    "    for _, row in recent_matches.iterrows():\n",
    "        if row['HomeTeam'] == team_name:\n",
    "            goals_scored += row['FTHG']\n",
    "            goals_conceded += row['FTAG']\n",
    "            result = row['FTR']\n",
    "            if result == 'H':\n",
    "                points += 3; wins += 1\n",
    "            elif result == 'D':\n",
    "                points += 1; draws += 1\n",
    "            else:\n",
    "                losses += 1\n",
    "        else:\n",
    "            goals_scored += row['FTAG']\n",
    "            goals_conceded += row['FTHG']\n",
    "            result = row['FTR']\n",
    "            if result == 'A':\n",
    "                points += 3; wins += 1\n",
    "            elif result == 'D':\n",
    "                points += 1; draws += 1\n",
    "            else:\n",
    "                losses += 1\n",
    "\n",
    "    goal_diff = goals_scored - goals_conceded\n",
    "    form_score = (points * points_weight + goal_diff * goal_diff_weight) * scale\n",
    "\n",
    "    return {\n",
    "        'Points': points * scale,\n",
    "        'Goals Scored': goals_scored * scale,\n",
    "        'Goals Conceded': goals_conceded * scale,\n",
    "        'Wins': wins * scale,\n",
    "        'Draws': draws * scale,\n",
    "        'Losses': losses * scale,\n",
    "        'Form Score': form_score\n",
    "    }\n",
    "\n",
    "# Step 3: Apply form feature extraction\n",
    "def add_form_features(df, window=5):\n",
    "    df = df.sort_values(\"Date\").reset_index(drop=True)\n",
    "    features = []\n",
    "\n",
    "    for idx, row in df.iterrows():\n",
    "        home_team = row[\"HomeTeam\"]\n",
    "        away_team = row[\"AwayTeam\"]\n",
    "        match_date = row[\"Date\"]\n",
    "        fixture_id = row[\"Fixture ID\"]\n",
    "\n",
    "        home_form = compute_team_form(df, home_team, match_date, fixture_id, window=window)\n",
    "        away_form = compute_team_form(df, away_team, match_date, fixture_id, window=window)\n",
    "\n",
    "        row_features = {\n",
    "            f\"Home_{k.replace(' ', '_')}\": v for k, v in home_form.items()\n",
    "        }\n",
    "        row_features.update({\n",
    "            f\"Away_{k.replace(' ', '_')}\": v for k, v in away_form.items()\n",
    "        })\n",
    "\n",
    "        features.append(row_features)\n",
    "\n",
    "    form_df = pd.DataFrame(features)\n",
    "    return pd.concat([df.reset_index(drop=True), form_df], axis=1)"
   ]
  },
  {
   "cell_type": "code",
   "execution_count": 34,
   "metadata": {},
   "outputs": [],
   "source": [
    "df_2024_cleaned = clean_dataset(df_2024)\n",
    "df_2024_with_form = add_form_features(df_2024_cleaned)\n",
    "df_2024_with_form.to_csv(\"../Data/PL/2024:25_FORM.csv\", index=False)"
   ]
  },
  {
   "cell_type": "markdown",
   "metadata": {},
   "source": [
    "# Dataset Preprocessing"
   ]
  },
  {
   "cell_type": "markdown",
   "metadata": {},
   "source": [
    "### Load and combine all datasets"
   ]
  },
  {
   "cell_type": "code",
   "execution_count": 72,
   "metadata": {},
   "outputs": [],
   "source": [
    "df_2021 = pd.read_csv(\"../Data/API-Football_FORM/API-Football-Data-2021:22_FORM.csv\")\n",
    "df_2022 = pd.read_csv(\"../Data/API-Football_FORM/API-Football-Data-2022:23_FORM.csv\")\n",
    "df_2023 = pd.read_csv(\"../Data/API-Football_FORM/API-Football-Data-2023:24_FORM.csv\")\n",
    "df_2024 = pd.read_csv(\"../Data/API-Football_FORM/API-Football-Data-2024:25_FORM.csv\")\n",
    "\n",
    "df_all = pd.concat([df_2021, df_2022, df_2023, df_2024], ignore_index=True)"
   ]
  },
  {
   "cell_type": "code",
   "execution_count": 73,
   "metadata": {},
   "outputs": [],
   "source": [
    "for col in df_all.columns:\n",
    "    if \"Possession\" in col and df_all[col].dtype == 'object':\n",
    "        df_all[col] = df_all[col].str.rstrip('%').astype(float) / 100.0\n"
   ]
  },
  {
   "cell_type": "markdown",
   "metadata": {},
   "source": [
    "### Label the targets"
   ]
  },
  {
   "cell_type": "code",
   "execution_count": 74,
   "metadata": {},
   "outputs": [],
   "source": [
    "def encode_result(row):\n",
    "    if row[\"Home Team Goals\"] > row[\"Away Team Goals\"]:\n",
    "        return 0\n",
    "    elif row[\"Home Team Goals\"] == row[\"Away Team Goals\"]:\n",
    "        return 1\n",
    "    else:\n",
    "        return 2\n",
    "\n",
    "df_all[\"MatchResult\"] = df_all.apply(encode_result, axis=1)"
   ]
  },
  {
   "cell_type": "code",
   "execution_count": 75,
   "metadata": {},
   "outputs": [],
   "source": [
    "# Normalize possession columns (e.g., \"70%\" → 0.70)\n",
    "for col in df_all.columns:\n",
    "    if \"Possession\" in col and df_all[col].dtype == 'object':\n",
    "        df_all[col] = df_all[col].str.rstrip('%').astype(float) / 100.0\n"
   ]
  },
  {
   "cell_type": "markdown",
   "metadata": {},
   "source": [
    "### Feature Selection"
   ]
  },
  {
   "cell_type": "code",
   "execution_count": 77,
   "metadata": {},
   "outputs": [],
   "source": [
    "# included_cols = [\n",
    "#     \"Home Team\", \"Away Team\", \"Referee\",\n",
    "#     \"Home Team Goals\", \"Away Team Goals\",\n",
    "#     \"Home_Points\", \"Home_Goals_Scored\", \"Home_Goals_Conceded\",\n",
    "#     \"Home_Wins\", \"Home_Draws\", \"Home_Losses\", \"Home_Form_Score\",\n",
    "#     \"Away_Points\", \"Away_Goals_Scored\", \"Away_Goals_Conceded\",\n",
    "#     \"Away_Wins\", \"Away_Draws\", \"Away_Losses\", \"Away_Form_Score\",\n",
    "#     \"Home Shots on Goal\", \"Away Shots on Goal\",\n",
    "#     \"Home Corner Kicks\", \"Away Corner Kicks\",\n",
    "#     \"Home Ball Possession\", \"Away Ball Possession\",\n",
    "#     \"Home Yellow Cards\", \"Away Yellow Cards\",\n",
    "#     \"Home Red Cards\", \"Away Red Cards\",\n",
    "#     \"Home Offsides\", \"Away Offsides\"\n",
    "# ]\n",
    "\n",
    "included_cols = [\n",
    "    \"Home Team\", \"Away Team\", \"Referee\",\n",
    "    \"Home_Points\", \"Home_Goals_Scored\", \"Home_Goals_Conceded\",\n",
    "    \"Home_Wins\", \"Home_Draws\", \"Home_Losses\", \"Home_Form_Score\",\n",
    "    \"Away_Points\", \"Away_Goals_Scored\", \"Away_Goals_Conceded\",\n",
    "    \"Away_Wins\", \"Away_Draws\", \"Away_Losses\", \"Away_Form_Score\",\n",
    "    \"Home Shots on Goal\", \"Away Shots on Goal\",\n",
    "    \"Home Corner Kicks\", \"Away Corner Kicks\",\n",
    "    \"Home Ball Possession\", \"Away Ball Possession\",\n",
    "    \"Home Yellow Cards\", \"Away Yellow Cards\",\n",
    "    \"Home Red Cards\", \"Away Red Cards\",\n",
    "    \"Home Offsides\", \"Away Offsides\"\n",
    "]\n",
    "\n",
    "df_features = df_all[included_cols].copy()"
   ]
  },
  {
   "cell_type": "markdown",
   "metadata": {},
   "source": [
    "### Encoding"
   ]
  },
  {
   "cell_type": "code",
   "execution_count": 78,
   "metadata": {},
   "outputs": [],
   "source": [
    "#===== LABEL ENCODING =====#\n",
    "\n",
    "label_encoded = df_features.copy()\n",
    "label_encoders = {}\n",
    "os.makedirs(\"Encoders\", exist_ok=True)\n",
    "\n",
    "for col in [\"Home Team\", \"Away Team\", \"Referee\"]:\n",
    "    le = LabelEncoder()\n",
    "    label_encoded[col + \"_LabelEnc\"] = le.fit_transform(label_encoded[col])\n",
    "    label_encoders[col] = le\n",
    "\n",
    "    # Save LabelEncoder\n",
    "    with open(f\"Encoders/{col.replace(' ', '_')}_label_encoder.pkl\", \"wb\") as f:\n",
    "        pickle.dump(le, f)\n",
    "\n",
    "# Drop original team/ref columns after label encoding\n",
    "label_encoded = label_encoded.drop(columns=[\"Home Team\", \"Away Team\", \"Referee\"])"
   ]
  },
  {
   "cell_type": "code",
   "execution_count": 79,
   "metadata": {},
   "outputs": [],
   "source": [
    "#===== ONE-HOT ENCODING =====#\n",
    "\n",
    "onehot_encoder = OneHotEncoder(handle_unknown='ignore', sparse_output=False)\n",
    "encoded_array = onehot_encoder.fit_transform(df_features[[\"Home Team\", \"Away Team\", \"Referee\"]])\n",
    "encoded_df = pd.DataFrame(\n",
    "    encoded_array,\n",
    "    columns=onehot_encoder.get_feature_names_out([\"Home Team\", \"Away Team\", \"Referee\"]),\n",
    "    index=df_features.index\n",
    ")\n",
    "\n",
    "# Combine one-hot with numeric stats\n",
    "onehot_encoded = pd.concat([df_features.drop(columns=[\"Home Team\", \"Away Team\", \"Referee\"]), encoded_df], axis=1)\n",
    "\n",
    "# Save OneHotEncoder\n",
    "with open(\"Encoders/onehot_encoder.pkl\", \"wb\") as f:\n",
    "    pickle.dump(onehot_encoder, f)"
   ]
  },
  {
   "cell_type": "markdown",
   "metadata": {},
   "source": [
    "### Final Setup"
   ]
  },
  {
   "cell_type": "code",
   "execution_count": 80,
   "metadata": {},
   "outputs": [],
   "source": [
    "df_all.to_csv(\"../Data/FINAL/PL_dataset_2021-2024.csv\", index=False)\n",
    "label_encoded.to_csv(\"../Data/FINAL/Football-Training-2021_2024_LABELENC.csv\", index=False)\n",
    "onehot_encoded.to_csv(\"../Data/FINAL/Football-Training-2021_2024_ONEHOT.csv\", index=False)"
   ]
  }
 ],
 "metadata": {
  "kernelspec": {
   "display_name": "FYP_ML",
   "language": "python",
   "name": "python3"
  },
  "language_info": {
   "codemirror_mode": {
    "name": "ipython",
    "version": 3
   },
   "file_extension": ".py",
   "mimetype": "text/x-python",
   "name": "python",
   "nbconvert_exporter": "python",
   "pygments_lexer": "ipython3",
   "version": "3.9.21"
  }
 },
 "nbformat": 4,
 "nbformat_minor": 2
}
