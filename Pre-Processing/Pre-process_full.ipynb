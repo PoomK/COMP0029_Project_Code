{
 "cells": [
  {
   "cell_type": "code",
   "execution_count": 1,
   "metadata": {},
   "outputs": [],
   "source": [
    "import os\n",
    "import pandas as pd\n",
    "from sklearn.preprocessing import LabelEncoder, OneHotEncoder\n",
    "import numpy as np\n",
    "import pickle\n",
    "from sklearn.model_selection import train_test_split"
   ]
  },
  {
   "cell_type": "markdown",
   "metadata": {},
   "source": [
    "## Add Form to datasets before 2021"
   ]
  },
  {
   "cell_type": "code",
   "execution_count": 11,
   "metadata": {},
   "outputs": [],
   "source": [
    "csv_output_file_2010 = \"../data/API-Football/API-Football-Data-2010:11.csv\"\n",
    "csv_output_file_2011 = \"../data/API-Football/API-Football-Data-2011:12.csv\"\n",
    "csv_output_file_2012 = \"../data/API-Football/API-Football-Data-2012:13.csv\"\n",
    "csv_output_file_2013 = \"../data/API-Football/API-Football-Data-2013:14.csv\"\n",
    "csv_output_file_2014 = \"../data/API-Football/API-Football-Data-2014:15.csv\"\n",
    "csv_output_file_2015 = \"../data/API-Football/API-Football-Data-2015:16.csv\"\n",
    "csv_output_file_2016 = \"../data/API-Football/API-Football-Data-2016:17.csv\"\n",
    "csv_output_file_2017 = \"../data/API-Football/API-Football-Data-2017:18.csv\"\n",
    "csv_output_file_2018 = \"../data/API-Football/API-Football-Data-2018:19.csv\"\n",
    "csv_output_file_2019 = \"../data/API-Football/API-Football-Data-2019:20.csv\"\n",
    "csv_output_file_2020 = \"../data/API-Football/API-Football-Data-2020:21.csv\""
   ]
  },
  {
   "cell_type": "code",
   "execution_count": null,
   "metadata": {},
   "outputs": [],
   "source": [
    "def preprocess_dates(df):\n",
    "    df = df.copy()\n",
    "    df[\"Date\"] = pd.to_datetime(df[\"Date\"])\n",
    "    df = df.sort_values(\"Date\").reset_index(drop=True)\n",
    "    return df\n",
    "\n",
    "def compute_team_form(df, team_name, current_date, current_match_id, window=7):\n",
    "    # Get past matches involving the team before the current date\n",
    "    past_matches = df[\n",
    "        ((df[\"Home Team\"] == team_name) | (df[\"Away Team\"] == team_name)) &\n",
    "        (df[\"Date\"] < current_date) &\n",
    "        (df[\"Fixture ID\"] != current_match_id)\n",
    "    ].sort_values(\"Date\", ascending=False).head(window)\n",
    "\n",
    "    match_count = len(past_matches)\n",
    "    if match_count == 0:\n",
    "        # First match of the season — no form\n",
    "        return {\n",
    "            \"Points\": 0,\n",
    "            \"Goals Scored\": 0,\n",
    "            \"Goals Conceded\": 0,\n",
    "            \"Wins\": 0,\n",
    "            \"Draws\": 0,\n",
    "            \"Losses\": 0,\n",
    "            \"Form Score\": 0.0\n",
    "        }\n",
    "\n",
    "    # Initialize counters\n",
    "    points = goals_scored = goals_conceded = wins = draws = losses = 0\n",
    "\n",
    "    for _, match in past_matches.iterrows():\n",
    "        is_home = match[\"Home Team\"] == team_name\n",
    "        team_goals = match[\"Home Team Goals\"] if is_home else match[\"Away Team Goals\"]\n",
    "        opponent_goals = match[\"Away Team Goals\"] if is_home else match[\"Home Team Goals\"]\n",
    "\n",
    "        goals_scored += team_goals\n",
    "        goals_conceded += opponent_goals\n",
    "\n",
    "        if team_goals > opponent_goals:\n",
    "            wins += 1\n",
    "            points += 3\n",
    "        elif team_goals == opponent_goals:\n",
    "            draws += 1\n",
    "            points += 1\n",
    "        else:\n",
    "            losses += 1\n",
    "\n",
    "    # Interpolate form to reflect a full 'window' of matches\n",
    "    scale = window / match_count\n",
    "    form_score = (points + (goals_scored - goals_conceded) * 0.5) * scale\n",
    "\n",
    "    return {\n",
    "        \"Points\": points * scale,\n",
    "        \"Goals Scored\": goals_scored * scale,\n",
    "        \"Goals Conceded\": goals_conceded * scale,\n",
    "        \"Wins\": wins * scale,\n",
    "        \"Draws\": draws * scale,\n",
    "        \"Losses\": losses * scale,\n",
    "        \"Form Score\": form_score\n",
    "    }\n",
    "\n",
    "def add_form_features(df, window=5):\n",
    "    df = preprocess_dates(df)\n",
    "    features = []\n",
    "\n",
    "    for idx, row in df.iterrows():\n",
    "        home_team = row[\"Home Team\"]\n",
    "        away_team = row[\"Away Team\"]\n",
    "        match_date = row[\"Date\"]\n",
    "        fixture_id = row[\"Fixture ID\"]\n",
    "\n",
    "        home_form = compute_team_form(df, home_team, match_date, fixture_id, window=window)\n",
    "        away_form = compute_team_form(df, away_team, match_date, fixture_id, window=window)\n",
    "\n",
    "        row_features = {\n",
    "            f\"Home_{k.replace(' ', '_')}\": v for k, v in home_form.items()\n",
    "        }\n",
    "        row_features.update({\n",
    "            f\"Away_{k.replace(' ', '_')}\": v for k, v in away_form.items()\n",
    "        })\n",
    "\n",
    "        features.append(row_features)\n",
    "\n",
    "    form_df = pd.DataFrame(features)\n",
    "    return pd.concat([df.reset_index(drop=True), form_df], axis=1)\n"
   ]
  },
  {
   "cell_type": "code",
   "execution_count": 13,
   "metadata": {},
   "outputs": [
    {
     "name": "stdout",
     "output_type": "stream",
     "text": [
      "Processed and saved: ../Data/API-Football_FORM/API-Football-Data-2010:11_FORM.csv\n",
      "Processed and saved: ../Data/API-Football_FORM/API-Football-Data-2011:12_FORM.csv\n",
      "Processed and saved: ../Data/API-Football_FORM/API-Football-Data-2012:13_FORM.csv\n",
      "Processed and saved: ../Data/API-Football_FORM/API-Football-Data-2013:14_FORM.csv\n",
      "Processed and saved: ../Data/API-Football_FORM/API-Football-Data-2014:15_FORM.csv\n",
      "Processed and saved: ../Data/API-Football_FORM/API-Football-Data-2015:16_FORM.csv\n",
      "Processed and saved: ../Data/API-Football_FORM/API-Football-Data-2016:17_FORM.csv\n",
      "Processed and saved: ../Data/API-Football_FORM/API-Football-Data-2017:18_FORM.csv\n",
      "Processed and saved: ../Data/API-Football_FORM/API-Football-Data-2018:19_FORM.csv\n",
      "Processed and saved: ../Data/API-Football_FORM/API-Football-Data-2019:20_FORM.csv\n",
      "Processed and saved: ../Data/API-Football_FORM/API-Football-Data-2020:21_FORM.csv\n",
      "Processed and saved: ../Data/API-Football_FORM/API-Football-Data-2024:25_FORM.csv\n"
     ]
    }
   ],
   "source": [
    "seasons = [\n",
    "    \"2010:11\", \"2011:12\", \"2012:13\", \"2013:14\", \"2014:15\", \"2015:16\", \"2016:17\", \"2017:18\", \"2018:19\", \"2019:20\", \"2020:21\", \"2024:25\"\n",
    "]\n",
    "\n",
    "for season in seasons:\n",
    "    input_file = f\"../data/API-Football/API-Football-Data-{season}.csv\"\n",
    "    output_file = f\"../Data/API-Football_FORM/API-Football-Data-{season}_FORM.csv\"\n",
    "\n",
    "    df = pd.read_csv(input_file)\n",
    "\n",
    "    df = add_form_features(df)\n",
    "\n",
    "    df.to_csv(output_file, index=False)\n",
    "\n",
    "    print(f\"Processed and saved: {output_file}\")"
   ]
  },
  {
   "cell_type": "markdown",
   "metadata": {},
   "source": [
    "# Dataset Preprocessing"
   ]
  },
  {
   "cell_type": "markdown",
   "metadata": {},
   "source": [
    "### Load and combine datasets"
   ]
  },
  {
   "cell_type": "code",
   "execution_count": 14,
   "metadata": {},
   "outputs": [],
   "source": [
    "df_2010 = pd.read_csv(\"../Data/API-Football_FORM/API-Football-Data-2010:11_FORM.csv\")\n",
    "df_2011 = pd.read_csv(\"../Data/API-Football_FORM/API-Football-Data-2011:12_FORM.csv\")\n",
    "df_2012 = pd.read_csv(\"../Data/API-Football_FORM/API-Football-Data-2012:13_FORM.csv\")\n",
    "df_2013 = pd.read_csv(\"../Data/API-Football_FORM/API-Football-Data-2013:14_FORM.csv\")\n",
    "df_2014 = pd.read_csv(\"../Data/API-Football_FORM/API-Football-Data-2014:15_FORM.csv\")\n",
    "df_2015 = pd.read_csv(\"../Data/API-Football_FORM/API-Football-Data-2015:16_FORM.csv\")\n",
    "df_2016 = pd.read_csv(\"../Data/API-Football_FORM/API-Football-Data-2016:17_FORM.csv\")\n",
    "df_2017 = pd.read_csv(\"../Data/API-Football_FORM/API-Football-Data-2017:18_FORM.csv\")\n",
    "df_2018 = pd.read_csv(\"../Data/API-Football_FORM/API-Football-Data-2018:19_FORM.csv\")\n",
    "df_2019 = pd.read_csv(\"../Data/API-Football_FORM/API-Football-Data-2019:20_FORM.csv\")\n",
    "df_2020 = pd.read_csv(\"../Data/API-Football_FORM/API-Football-Data-2020:21_FORM.csv\")\n",
    "df_2021 = pd.read_csv(\"../Data/API-Football_FORM/API-Football-Data-2021:22_FORM.csv\")\n",
    "df_2022 = pd.read_csv(\"../Data/API-Football_FORM/API-Football-Data-2022:23_FORM.csv\")\n",
    "df_2023 = pd.read_csv(\"../Data/API-Football_FORM/API-Football-Data-2023:24_FORM.csv\")\n",
    "df_2024 = pd.read_csv(\"../Data/API-Football_FORM/API-Football-Data-2024:25_FORM.csv\")\n",
    "\n",
    "df_all = pd.concat([df_2010, df_2011, df_2012, df_2013, df_2014, df_2015, df_2016, df_2017, df_2018, df_2019, df_2020, df_2021, df_2022, df_2023, df_2024], ignore_index=True)"
   ]
  },
  {
   "cell_type": "code",
   "execution_count": 15,
   "metadata": {},
   "outputs": [],
   "source": [
    "for col in df_all.columns:\n",
    "    if \"Possession\" in col and df_all[col].dtype == 'object':\n",
    "        df_all[col] = df_all[col].str.rstrip('%').astype(float) / 100.0"
   ]
  },
  {
   "cell_type": "markdown",
   "metadata": {},
   "source": [
    "### Label Targets"
   ]
  },
  {
   "cell_type": "code",
   "execution_count": 16,
   "metadata": {},
   "outputs": [],
   "source": [
    "def encode_result(row):\n",
    "    if row[\"Home Team Goals\"] > row[\"Away Team Goals\"]:\n",
    "        return 0\n",
    "    elif row[\"Home Team Goals\"] == row[\"Away Team Goals\"]:\n",
    "        return 1\n",
    "    else:\n",
    "        return 2\n",
    "\n",
    "df_all[\"MatchResult\"] = df_all.apply(encode_result, axis=1)"
   ]
  },
  {
   "cell_type": "markdown",
   "metadata": {},
   "source": [
    "### Feature Selection"
   ]
  },
  {
   "cell_type": "code",
   "execution_count": 17,
   "metadata": {},
   "outputs": [],
   "source": [
    "included_cols = [\n",
    "    \"Home Team\", \"Away Team\",\n",
    "    \"Home_Points\", \"Home_Goals_Scored\", \"Home_Goals_Conceded\",\n",
    "    \"Home_Wins\", \"Home_Draws\", \"Home_Losses\", \"Home_Form_Score\",\n",
    "    \"Away_Points\", \"Away_Goals_Scored\", \"Away_Goals_Conceded\",\n",
    "    \"Away_Wins\", \"Away_Draws\", \"Away_Losses\", \"Away_Form_Score\",\n",
    "    \"Home Shots on Goal\", \"Away Shots on Goal\",\n",
    "    \"Home Corner Kicks\", \"Away Corner Kicks\",\n",
    "    \"Home Ball Possession\", \"Away Ball Possession\",\n",
    "    \"Home Yellow Cards\", \"Away Yellow Cards\",\n",
    "    \"Home Red Cards\", \"Away Red Cards\",\n",
    "    \"Home Offsides\", \"Away Offsides\",\n",
    "    \"Home expected_goals\", \"Away expected_goals\",\n",
    "]\n",
    "\n",
    "df_features = df_all[included_cols].copy()"
   ]
  },
  {
   "cell_type": "markdown",
   "metadata": {},
   "source": [
    "### Encoding"
   ]
  },
  {
   "cell_type": "code",
   "execution_count": 18,
   "metadata": {},
   "outputs": [],
   "source": [
    "#===== LABEL ENCODING =====#\n",
    "\n",
    "label_encoded = df_features.copy()\n",
    "label_encoders = {}\n",
    "os.makedirs(\"Encoders\", exist_ok=True)\n",
    "\n",
    "for col in [\"Home Team\", \"Away Team\"]:\n",
    "    le = LabelEncoder()\n",
    "    label_encoded[col + \"_LabelEnc\"] = le.fit_transform(label_encoded[col])\n",
    "    label_encoders[col] = le\n",
    "\n",
    "    # Save LabelEncoder\n",
    "    with open(f\"Encoders_final/{col.replace(' ', '_')}_label_encoder.pkl\", \"wb\") as f:\n",
    "        pickle.dump(le, f)\n",
    "\n",
    "# Drop original team/ref columns after label encoding\n",
    "label_encoded = label_encoded.drop(columns=[\"Home Team\", \"Away Team\"])"
   ]
  },
  {
   "cell_type": "code",
   "execution_count": 19,
   "metadata": {},
   "outputs": [],
   "source": [
    "#===== ONE-HOT ENCODING =====#\n",
    "\n",
    "onehot_encoder = OneHotEncoder(handle_unknown='ignore', sparse_output=False)\n",
    "encoded_array = onehot_encoder.fit_transform(df_features[[\"Home Team\", \"Away Team\"]])\n",
    "encoded_df = pd.DataFrame(\n",
    "    encoded_array,\n",
    "    columns=onehot_encoder.get_feature_names_out([\"Home Team\", \"Away Team\"]),\n",
    "    index=df_features.index\n",
    ")\n",
    "\n",
    "# Combine one-hot with numeric stats\n",
    "onehot_encoded = pd.concat([df_features.drop(columns=[\"Home Team\", \"Away Team\"]), encoded_df], axis=1)\n",
    "\n",
    "# Save OneHotEncoder\n",
    "with open(\"Encoders_final/onehot_encoder.pkl\", \"wb\") as f:\n",
    "    pickle.dump(onehot_encoder, f)"
   ]
  },
  {
   "cell_type": "markdown",
   "metadata": {},
   "source": [
    "### Final Setup"
   ]
  },
  {
   "cell_type": "code",
   "execution_count": 20,
   "metadata": {},
   "outputs": [],
   "source": [
    "df_all.to_csv(\"../Data/FINAL_FULL/PL_dataset_2010-2025.csv\", index=False)\n",
    "label_encoded.to_csv(\"../Data/FINAL_FULL/Football-Training-2010_2025_LABELENC.csv\", index=False)\n",
    "onehot_encoded.to_csv(\"../Data/FINAL_FULL/Football-Training-2010_2025_ONEHOT.csv\", index=False)"
   ]
  }
 ],
 "metadata": {
  "kernelspec": {
   "display_name": "FYP_ML",
   "language": "python",
   "name": "python3"
  },
  "language_info": {
   "codemirror_mode": {
    "name": "ipython",
    "version": 3
   },
   "file_extension": ".py",
   "mimetype": "text/x-python",
   "name": "python",
   "nbconvert_exporter": "python",
   "pygments_lexer": "ipython3",
   "version": "3.9.21"
  }
 },
 "nbformat": 4,
 "nbformat_minor": 2
}
