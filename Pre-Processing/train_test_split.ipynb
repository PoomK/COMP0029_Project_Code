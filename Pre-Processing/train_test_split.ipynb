{
 "cells": [
  {
   "cell_type": "code",
   "execution_count": 2,
   "metadata": {},
   "outputs": [],
   "source": [
    "import os\n",
    "import pandas as pd"
   ]
  },
  {
   "cell_type": "code",
   "execution_count": 3,
   "metadata": {},
   "outputs": [],
   "source": [
    "df_all_path = '../Data/FINAL_FULL/PL_dataset_2010-2025.csv'\n",
    "label_enc_path = '../Data/FINAL_FULL/Football-Training-2010_2025_LABELENC.csv'\n",
    "onehot_enc_path = '../Data/FINAL_FULL/Football-Training-2010_2025_ONEHOT.csv'"
   ]
  },
  {
   "cell_type": "code",
   "execution_count": 5,
   "metadata": {},
   "outputs": [],
   "source": [
    "df_all = pd.read_csv(df_all_path)\n",
    "label_encoded = pd.read_csv(label_enc_path)\n",
    "onehot_encoded = pd.read_csv(onehot_enc_path)"
   ]
  },
  {
   "cell_type": "code",
   "execution_count": 9,
   "metadata": {},
   "outputs": [],
   "source": [
    "output_dir = '../Data/FINAL_SPLIT'"
   ]
  },
  {
   "cell_type": "code",
   "execution_count": 10,
   "metadata": {},
   "outputs": [],
   "source": [
    "def split_and_save(df, base_name):\n",
    "    split_idx = int(len(df) * 0.8)\n",
    "    train_df = df.iloc[:split_idx].reset_index(drop=True)\n",
    "    test_df  = df.iloc[split_idx:].reset_index(drop=True)\n",
    "    \n",
    "    train_path = os.path.join(output_dir, f'{base_name}_train.csv')\n",
    "    test_path  = os.path.join(output_dir, f'{base_name}_test.csv')\n",
    "    \n",
    "    train_df.to_csv(train_path, index=False)\n",
    "    test_df.to_csv(test_path, index=False)\n",
    "    \n",
    "    return train_path, test_path"
   ]
  },
  {
   "cell_type": "code",
   "execution_count": null,
   "metadata": {},
   "outputs": [
    {
     "name": "stdout",
     "output_type": "stream",
     "text": [
      "Created files:\n",
      "../Data/FINAL_SPLIT/PL_dataset_2010-2025_train.csv\n",
      "../Data/FINAL_SPLIT/PL_dataset_2010-2025_test.csv\n",
      "../Data/FINAL_SPLIT/Football-Training-2010_2025_LABELENC_train.csv\n",
      "../Data/FINAL_SPLIT/Football-Training-2010_2025_LABELENC_test.csv\n",
      "../Data/FINAL_SPLIT/Football-Training-2010_2025_ONEHOT_train.csv\n",
      "../Data/FINAL_SPLIT/Football-Training-2010_2025_ONEHOT_test.csv\n"
     ]
    }
   ],
   "source": [
    "files_created = []\n",
    "files_created += split_and_save(df_all, 'PL_dataset_2010-2025')\n",
    "files_created += split_and_save(label_encoded, 'Football-Training-2010_2025_LABELENC')\n",
    "files_created += split_and_save(onehot_encoded, 'Football-Training-2010_2025_ONEHOT')\n",
    "\n",
    "print(\"Created files:\")\n",
    "for fp in files_created:\n",
    "    print(fp)"
   ]
  }
 ],
 "metadata": {
  "kernelspec": {
   "display_name": "FYP_ML",
   "language": "python",
   "name": "python3"
  },
  "language_info": {
   "codemirror_mode": {
    "name": "ipython",
    "version": 3
   },
   "file_extension": ".py",
   "mimetype": "text/x-python",
   "name": "python",
   "nbconvert_exporter": "python",
   "pygments_lexer": "ipython3",
   "version": "3.9.21"
  }
 },
 "nbformat": 4,
 "nbformat_minor": 2
}
